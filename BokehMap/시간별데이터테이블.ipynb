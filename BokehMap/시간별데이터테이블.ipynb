{
 "cells": [
  {
   "cell_type": "code",
   "execution_count": null,
   "metadata": {},
   "outputs": [],
   "source": [
    "\n",
    "# 시간별 테이블 데이터 시각화 \n",
    "\n",
    "def hourlyTable(hourlyDf,width=1200, height=800):\n",
    "\n",
    "    from datetime import date\n",
    "    from random import randint\n",
    "    import pandas as pd \n",
    "\n",
    "    from bokeh.io import output_file, show\n",
    "    from bokeh.layouts import widgetbox\n",
    "    from bokeh.models import ColumnDataSource\n",
    "    from bokeh.models.widgets import DataTable, DateFormatter, TableColumn\n",
    "\n",
    "    hourlyDf[\"datetime\"] = pd.to_datetime(hourlyDf[\"datetime\"],format=\"%Y-%m-%d %H:%M:%S\", errors = 'coerce')     # datetime 형식으로 변경 \n",
    "\n",
    "    source = ColumnDataSource(hourlyDf)\n",
    "    columns = [\n",
    "            TableColumn(field=\"datetime\", title=\"시간\", formatter=DateFormatter(format=\"%Y-%m-%d %H:%M:%S\")),\n",
    "            TableColumn(field=\"name\", title=\"지명\"),\n",
    "            TableColumn(field=\"temp\", title=\"온도 (˚C)\"),\n",
    "            TableColumn(field=\"humidity\", title=\"습도 (%)\"),\n",
    "            TableColumn(field=\"precipitation_probability\", title=\"강수확률 (%)\"),\n",
    "            TableColumn(field=\"uvi\", title=\"자외선 지수\"),\n",
    "            TableColumn(field=\"wind\", title=\"바람 (m/s)\"),\n",
    "            TableColumn(field=\"weather\", title=\"날씨\"),\n",
    "        ]\n",
    "\n",
    "    data_table = DataTable(source=source, columns=columns,width=width, height=height)\n",
    "\n",
    "    return widgetbox(data_table)"
   ]
  },
  {
   "cell_type": "code",
   "execution_count": null,
   "metadata": {},
   "outputs": [],
   "source": [
    "\n",
    "# mysql Connection \n",
    "def mysqlConn(host=\"220.78.231.223\", port=3306, user=\"jueun\", passwd=\"jueun\", db=\"weather\",):    \n",
    "    import pymysql\n",
    "    import logging\n",
    "\n",
    "    try:\n",
    "        conn_db = pymysql.connect(host=host, port=port, user=user, passwd=passwd, db=db, charset=\"utf8\")\n",
    "        return conn_db\n",
    "\n",
    "    except Exception as ex:\n",
    "        logging.error(\"DB Connection Issue : {}\".format(ex))"
   ]
  },
  {
   "cell_type": "code",
   "execution_count": null,
   "metadata": {},
   "outputs": [],
   "source": [
    "\n",
    "\n",
    "def main():\n",
    "    from bokeh.io import show\n",
    "    import pandas as pd \n",
    "\n",
    "    # DB Connection\n",
    "    conn_db = mysqlConn(host=\"220.78.231.223\", port=3306, user=\"jueun\", passwd=\"jueun\", db=\"weather\")\n",
    "\n",
    "    # 시간별 데이터 \n",
    "    sql = \"select * from weather.hourly_weather;\"\n",
    "    hourlyDf = pd.read_sql_query(sql,conn_db)\n",
    "    hourlyPlot = hourlyTable(hourlyDf,width=1200, height=800)\n",
    "    show(hourlyPlot)\n",
    "    \n",
    "    conn_db.close()\n",
    "    \n",
    "    return hourlyPlot\n",
    "\n",
    "if __name__ == \"__main__\":\n",
    "\n",
    "    main()    "
   ]
  }
 ],
 "metadata": {
  "language_info": {
   "name": "python"
  },
  "orig_nbformat": 4
 },
 "nbformat": 4,
 "nbformat_minor": 2
}
