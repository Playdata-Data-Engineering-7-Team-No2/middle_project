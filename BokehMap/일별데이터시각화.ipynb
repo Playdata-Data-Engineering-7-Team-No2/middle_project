{
 "cells": [
  {
   "cell_type": "code",
   "execution_count": 105,
   "metadata": {},
   "outputs": [],
   "source": [
    "# 일 별 테이블 데이터 시각화 \n",
    "# customJs -> datePicker 사용 \n",
    "\n",
    "def dailyPickerTable(dailyDf,width=1200, height=800):\n",
    "    from datetime import date\n",
    "    from random import randint\n",
    "    from bokeh.layouts import widgetbox\n",
    "    from bokeh.models import ColumnDataSource, DataTable, TableColumn, CustomJS, DateFormatter, DatePicker\n",
    "    from bokeh.io import show, output_file, output_notebook\n",
    "    from bokeh.layouts import row, column, layout\n",
    "    import pandas as pd\n",
    "\n",
    "    output_notebook()\n",
    "    # datetime 변경 \n",
    "    dailyDf[\"timestamp\"] = pd.to_datetime(dailyDf[\"datetime\"],format=\"%Y-%m-%d %H:%M:%S\", errors = 'coerce')   \n",
    "    dailyDf[\"sunrise\"] = pd.to_datetime(dailyDf[\"sunrise\"],format=\"%Y-%m-%d %H:%M:%S\", errors = 'coerce')     \n",
    "    dailyDf[\"sunset\"] = pd.to_datetime(dailyDf[\"sunset\"],format=\"%Y-%m-%d %H:%M:%S\", errors = 'coerce')     \n",
    "    dailyDf[\"moonrise\"] = pd.to_datetime(dailyDf[\"moonrise\"],format=\"%Y-%m-%d %H:%M:%S\", errors = 'coerce')    \n",
    "    dailyDf[\"moonset\"] = pd.to_datetime(dailyDf[\"moonrise\"],format=\"%Y-%m-%d %H:%M:%S\", errors = 'coerce')      \n",
    "\n",
    "    dailyDf['datetime'] = dailyDf.apply(lambda x: str(x['datetime']).split()[0],axis=1)  \n",
    "\n",
    "    # src1 : 원본 데이터 \n",
    "    src1 = ColumnDataSource(dailyDf)\n",
    "\n",
    "    # src2 : 수정 데이터 (날짜별 수정)\n",
    "    df2 = pd.DataFrame(columns =['name', 'timestamp',  'sunrise', 'sunset', 'moonrise', 'moonset', 'temp_morn', 'temp_eve', 'temp_min', 'temp_max', \n",
    "                'feels_like_morn', 'feels_like_eve', 'humidity', 'precipitation_probability', 'weather'])\n",
    "    src2 = ColumnDataSource(df2)\n",
    "    column2 = [\n",
    "            TableColumn(field=\"timestamp\", title=\"시간\", formatter=DateFormatter(format=\"%Y-%m-%d %H:%M:%S\")),\n",
    "            TableColumn(field=\"name\", title=\"지명\"),\n",
    "            TableColumn(field=\"sunrise\", title=\"일출\", formatter=DateFormatter(format=\"%Y-%m-%d %H:%M:%S\")),\n",
    "            TableColumn(field=\"sunset\", title=\"일몰\", formatter=DateFormatter(format=\"%Y-%m-%d %H:%M:%S\")),\n",
    "            TableColumn(field=\"moonrise\", title=\"월출\", formatter=DateFormatter(format=\"%Y-%m-%d %H:%M:%S\")),\n",
    "            TableColumn(field=\"moonset\", title=\"월몰\", formatter=DateFormatter(format=\"%Y-%m-%d %H:%M:%S\")),\n",
    "            TableColumn(field=\"temp_morn\", title=\"아침 기온 (˚C)\"),\n",
    "            TableColumn(field=\"temp_eve\", title=\"저녁 기온 (˚C)\"),\n",
    "            TableColumn(field=\"temp_min\", title=\"최저 기온 (˚C)\"),\n",
    "            TableColumn(field=\"temp_max\", title=\"최대 기온 (˚C)\"),\n",
    "            TableColumn(field=\"feels_like_morn\", title=\"아침 체감온도 (˚C)\"),\n",
    "            TableColumn(field=\"feels_like_eve\", title=\"저녁 체감온도 (˚C)\"),\n",
    "            TableColumn(field=\"humidity\", title=\"습도 (%)\"),\n",
    "            TableColumn(field=\"precipitation_probability\", title=\"강수확률 (%)\"),\n",
    "            TableColumn(field=\"weather\", title=\"날씨\"),\n",
    "        ]\n",
    "\n",
    "\n",
    "    # callback 함수 : \n",
    "    callback = CustomJS(args=dict(src1=src1, src2=src2), code='''\n",
    "        src2.clear()\n",
    "\n",
    "        var data = src1.data;\n",
    "        var f = cb_obj.value;\n",
    "        var date = data['datetime'];\n",
    "        var columns =  ['name', 'timestamp', 'sunrise', 'sunset', 'moonrise', 'moonset', 'temp_morn', 'temp_eve', 'temp_min', 'temp_max', \n",
    "                'feels_like_morn', 'feels_like_eve', 'humidity', 'precipitation_probability', 'weather'];\n",
    "\n",
    "        for (var i = 0; i < date.length; i++) {\n",
    "            console.log(data['datetime'][i] )\n",
    "\n",
    "            if(data['datetime'][i] == f){\n",
    "                for(var j=0; j < columns.length; j++){\n",
    "                    src2.data[columns[j]].push(src1.data[columns[j]][i]);\n",
    "                }\n",
    "            }\n",
    "        }\n",
    "\n",
    "        delete src2.data['index']\n",
    "        console.log(src2.data)\n",
    "\n",
    "        src2.change.emit();\n",
    "        ''')\n",
    "\n",
    "    # src2로 DataTable 생성\n",
    "    data_table= DataTable(source=src2, columns=column2,width=1200, height=800)  \n",
    "  \n",
    "    # datePicker 범위 지정 \n",
    "    date_picker = DatePicker(title='날짜 선택', value=max(dailyDf['datetime']),\n",
    "                         min_date=min(dailyDf['datetime']), max_date=max(dailyDf['datetime']))\n",
    "\n",
    "    # 날짜 고를 때 callback 함수 호출\n",
    "    date_picker.js_on_change(\"value\",callback) \n",
    "\n",
    "    # # 위/아래로 datePicker, dataTable layout 생성 \n",
    "    layout = column(date_picker, data_table)\n",
    "\n",
    "    return layout\n"
   ]
  },
  {
   "cell_type": "code",
   "execution_count": 102,
   "metadata": {},
   "outputs": [],
   "source": [
    "# mysql Connection \n",
    "def mysqlConn(host=\"220.78.231.223\", port=3306, user=\"jueun\", passwd=\"jueun\", db=\"weather\",):    \n",
    "    import pymysql\n",
    "    import logging\n",
    "\n",
    "    try:\n",
    "        conn_db = pymysql.connect(host=host, port=port, user=user, passwd=passwd, db=db, charset=\"utf8\")\n",
    "        return conn_db\n",
    "\n",
    "    except Exception as ex:\n",
    "        logging.error(\"DB Connection Issue : {}\".format(ex))\n",
    "    "
   ]
  },
  {
   "cell_type": "code",
   "execution_count": 106,
   "metadata": {},
   "outputs": [],
   "source": [
    "def main():\n",
    "    from bokeh.io import show\n",
    "    import pandas as pd \n",
    "\n",
    "    # DB Connection\n",
    "    conn_db = mysqlConn(host=\"220.78.231.223\", port=3306, user=\"jueun\", passwd=\"jueun\", db=\"weather\")\n",
    " \n",
    "    sql = \"select * from weather.daily_weather;\"\n",
    "    dPickerDf = pd.read_sql_query(sql,conn_db)\n",
    "    dailyPickPlot = dailyPickerTable(dPickerDf,width=1200, height=800)\n",
    "    \n",
    "    show(dailyPickPlot)\n",
    "    conn_db.close()\n",
    "    \n",
    "    return dailyPickPlot"
   ]
  },
  {
   "cell_type": "code",
   "execution_count": 107,
   "metadata": {},
   "outputs": [
    {
     "name": "stderr",
     "output_type": "stream",
     "text": [
      "C:\\Users\\Playdata\\anaconda3\\envs\\midPrj\\lib\\site-packages\\pandas\\io\\sql.py:761: UserWarning: pandas only support SQLAlchemy connectable(engine/connection) ordatabase string URI or sqlite3 DBAPI2 connectionother DBAPI2 objects are not tested, please consider using SQLAlchemy\n",
      "  warnings.warn(\n"
     ]
    }
   ],
   "source": [
    "if __name__ == \"__main__\":\n",
    "\n",
    "    main()    "
   ]
  },
  {
   "cell_type": "code",
   "execution_count": null,
   "metadata": {},
   "outputs": [],
   "source": []
  }
 ],
 "metadata": {
  "interpreter": {
   "hash": "b059bc85c320021421c137b99aaec7b3924b4732fcc62b2c92e12345b82ec38a"
  },
  "kernelspec": {
   "display_name": "Python 3.9.7 ('midPrj')",
   "language": "python",
   "name": "python3"
  },
  "language_info": {
   "codemirror_mode": {
    "name": "ipython",
    "version": 3
   },
   "file_extension": ".py",
   "mimetype": "text/x-python",
   "name": "python",
   "nbconvert_exporter": "python",
   "pygments_lexer": "ipython3",
   "version": "3.9.7"
  },
  "orig_nbformat": 4
 },
 "nbformat": 4,
 "nbformat_minor": 2
}
