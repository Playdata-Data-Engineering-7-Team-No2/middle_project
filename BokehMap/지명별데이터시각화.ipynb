{
 "cells": [
  {
   "cell_type": "code",
   "execution_count": 2,
   "metadata": {},
   "outputs": [],
   "source": [
    "# 지역별 테이블 데이터 시각화 \n",
    "# customJs -> select 사용 \n",
    "def nameSelectTable(hourlyDf,width=1200, height=800):\n",
    "    from datetime import date\n",
    "    from random import randint\n",
    "    from bokeh.layouts import widgetbox\n",
    "    from bokeh.models import ColumnDataSource, DataTable, TableColumn, CustomJS, Select,DateFormatter\n",
    "    from bokeh.io import show, output_file\n",
    "    from bokeh.layouts import row, column, layout\n",
    "    import pandas as pd\n",
    "\n",
    "\n",
    "    hourlyDf[\"timestamp\"] = pd.to_datetime(hourlyDf[\"datetime\"],format=\"%Y-%m-%d %H:%M:%S\", errors = 'coerce')     # datetime 형식으로 변경 \n",
    "    hourlyDf['datetime'] = hourlyDf.apply(lambda x: x['datetime'].split()[0],axis=1) # date 추출 (일별 데이터에 해당없음)\n",
    "\n",
    "    # src1 : 원본 데이터 \n",
    "    src1 = ColumnDataSource(hourlyDf)\n",
    "\n",
    "    # src2 : 수정 데이터 (지명별로 수정)\n",
    "    df2 = pd.DataFrame(columns = ['timestamp', 'name','temp', 'humidity', 'precipitation_probability', 'uvi', 'wind','weather'])\n",
    "    src2 = ColumnDataSource(df2)\n",
    "    columns = [\n",
    "            TableColumn(field=\"timestamp\", title=\"시간\", formatter=DateFormatter(format=\"%Y-%m-%d %H:%M:%S\")),\n",
    "            TableColumn(field=\"name\", title=\"지명\"),\n",
    "            TableColumn(field=\"temp\", title=\"온도 (˚C)\"),\n",
    "            TableColumn(field=\"humidity\", title=\"습도 (%)\"),\n",
    "            TableColumn(field=\"precipitation_probability\", title=\"강수확률 (%)\"),\n",
    "            TableColumn(field=\"uvi\", title=\"자외선 지수\"),\n",
    "            TableColumn(field=\"wind\", title=\"바람 (m/s)\"),\n",
    "            TableColumn(field=\"weather\", title=\"날씨\"),\n",
    "        ]\n",
    "\n",
    "    # src3 : src2 초기화 데이터 \n",
    "    df3 = pd.DataFrame(columns =  ['timestamp', 'name','temp', 'humidity', 'precipitation_probability', 'uvi', 'wind','weather'])\n",
    "    src3 = ColumnDataSource(df3)\n",
    "\n",
    "    # callback 함수 : \n",
    "    callback = CustomJS(args=dict(src1=src1, src2=src2, src3=src3), code='''\n",
    "        src2.data = src3.data\n",
    "        var data = src1.data;\n",
    "        var f = cb_obj.value;\n",
    "        var date = data['datetime'];\n",
    "        var columns =  ['timestamp', 'name','temp', 'humidity', 'precipitation_probability', 'uvi', 'wind','weather'];\n",
    "\n",
    "\n",
    "        for (var i = 0; i < date.length; i++) {\n",
    "            if(data['name'][i] == f){\n",
    "                for(var j=0; j < columns.length; j++){\n",
    "                    src2.data[columns[j]].push(src1.data[columns[j]][i]);\n",
    "                }\n",
    "            }\n",
    "        }\n",
    "\n",
    "        delete src2.data['index']\n",
    "        console.log(src2.data)\n",
    "\n",
    "        src2.change.emit();\n",
    "\n",
    "        ''')\n",
    "\n",
    "    \n",
    "    options = ['Please choose...'] + list(hourlyDf[\"name\"].unique()) # 지역명 list\n",
    "    select = Select(title='지명', value=options[0], options=options) # select 초기화  \n",
    "    select.js_on_change('value', callback) # 지역을 고를 때 callback 함수 호출\n",
    "\n",
    "    data_table2= DataTable(source=src2, columns=columns,width=1200, height=800)  # dataTable 생성 \n",
    "    layout = column(select, data_table2) # 위/아래로 select, dataTable layout 생성 \n",
    "    \n",
    "    show(layout)\n",
    "\n",
    "    return layout\n"
   ]
  },
  {
   "cell_type": "code",
   "execution_count": null,
   "metadata": {},
   "outputs": [],
   "source": [
    "# mysql Connection \n",
    "def mysqlConn(host=\"220.78.231.223\", port=3306, user=\"jueun\", passwd=\"jueun\", db=\"weather\",):    \n",
    "    import pymysql\n",
    "    import logging\n",
    "\n",
    "    try:\n",
    "        conn_db = pymysql.connect(host=host, port=port, user=user, passwd=passwd, db=db, charset=\"utf8\")\n",
    "        return conn_db\n",
    "\n",
    "    except Exception as ex:\n",
    "        logging.error(\"DB Connection Issue : {}\".format(ex))\n",
    "    "
   ]
  },
  {
   "cell_type": "code",
   "execution_count": null,
   "metadata": {},
   "outputs": [],
   "source": [
    "def main():\n",
    "    from bokeh.io import show\n",
    "    import pandas as pd \n",
    "\n",
    "    # DB Connection\n",
    "    conn_db = mysqlConn(host=\"220.78.231.223\", port=3306, user=\"jueun\", passwd=\"jueun\", db=\"weather\")\n",
    " \n",
    "    sql = \"select * from weather.hourly_weather;\"\n",
    "    dPickerDf = pd.read_sql_query(sql,conn_db)\n",
    "    datePickPlot = nameSelectTable(dPickerDf,width=1200, height=800)\n",
    "    \n",
    "    show(datePickPlot)\n",
    "    conn_db.close()\n",
    "    \n",
    "    return datePickPlot"
   ]
  },
  {
   "cell_type": "code",
   "execution_count": 3,
   "metadata": {},
   "outputs": [
    {
     "data": {
      "text/html": [
       "<div style=\"display: table;\"><div style=\"display: table-row;\"><div style=\"display: table-cell;\"><b title=\"bokeh.models.layouts.Column\">Column</b>(</div><div style=\"display: table-cell;\">id&nbsp;=&nbsp;'1019', <span id=\"1253\" style=\"cursor: pointer;\">&hellip;)</span></div></div><div class=\"1252\" style=\"display: none;\"><div style=\"display: table-cell;\"></div><div style=\"display: table-cell;\">align&nbsp;=&nbsp;'start',</div></div><div class=\"1252\" style=\"display: none;\"><div style=\"display: table-cell;\"></div><div style=\"display: table-cell;\">aspect_ratio&nbsp;=&nbsp;None,</div></div><div class=\"1252\" style=\"display: none;\"><div style=\"display: table-cell;\"></div><div style=\"display: table-cell;\">background&nbsp;=&nbsp;None,</div></div><div class=\"1252\" style=\"display: none;\"><div style=\"display: table-cell;\"></div><div style=\"display: table-cell;\">children&nbsp;=&nbsp;[Select(id='1015', ...), DataTable(id='1016', ...)],</div></div><div class=\"1252\" style=\"display: none;\"><div style=\"display: table-cell;\"></div><div style=\"display: table-cell;\">css_classes&nbsp;=&nbsp;[],</div></div><div class=\"1252\" style=\"display: none;\"><div style=\"display: table-cell;\"></div><div style=\"display: table-cell;\">disabled&nbsp;=&nbsp;False,</div></div><div class=\"1252\" style=\"display: none;\"><div style=\"display: table-cell;\"></div><div style=\"display: table-cell;\">height&nbsp;=&nbsp;None,</div></div><div class=\"1252\" style=\"display: none;\"><div style=\"display: table-cell;\"></div><div style=\"display: table-cell;\">height_policy&nbsp;=&nbsp;'auto',</div></div><div class=\"1252\" style=\"display: none;\"><div style=\"display: table-cell;\"></div><div style=\"display: table-cell;\">js_event_callbacks&nbsp;=&nbsp;{},</div></div><div class=\"1252\" style=\"display: none;\"><div style=\"display: table-cell;\"></div><div style=\"display: table-cell;\">js_property_callbacks&nbsp;=&nbsp;{},</div></div><div class=\"1252\" style=\"display: none;\"><div style=\"display: table-cell;\"></div><div style=\"display: table-cell;\">margin&nbsp;=&nbsp;(0, 0, 0, 0),</div></div><div class=\"1252\" style=\"display: none;\"><div style=\"display: table-cell;\"></div><div style=\"display: table-cell;\">max_height&nbsp;=&nbsp;None,</div></div><div class=\"1252\" style=\"display: none;\"><div style=\"display: table-cell;\"></div><div style=\"display: table-cell;\">max_width&nbsp;=&nbsp;None,</div></div><div class=\"1252\" style=\"display: none;\"><div style=\"display: table-cell;\"></div><div style=\"display: table-cell;\">min_height&nbsp;=&nbsp;None,</div></div><div class=\"1252\" style=\"display: none;\"><div style=\"display: table-cell;\"></div><div style=\"display: table-cell;\">min_width&nbsp;=&nbsp;None,</div></div><div class=\"1252\" style=\"display: none;\"><div style=\"display: table-cell;\"></div><div style=\"display: table-cell;\">name&nbsp;=&nbsp;None,</div></div><div class=\"1252\" style=\"display: none;\"><div style=\"display: table-cell;\"></div><div style=\"display: table-cell;\">rows&nbsp;=&nbsp;'auto',</div></div><div class=\"1252\" style=\"display: none;\"><div style=\"display: table-cell;\"></div><div style=\"display: table-cell;\">sizing_mode&nbsp;=&nbsp;None,</div></div><div class=\"1252\" style=\"display: none;\"><div style=\"display: table-cell;\"></div><div style=\"display: table-cell;\">spacing&nbsp;=&nbsp;0,</div></div><div class=\"1252\" style=\"display: none;\"><div style=\"display: table-cell;\"></div><div style=\"display: table-cell;\">subscribed_events&nbsp;=&nbsp;[],</div></div><div class=\"1252\" style=\"display: none;\"><div style=\"display: table-cell;\"></div><div style=\"display: table-cell;\">syncable&nbsp;=&nbsp;True,</div></div><div class=\"1252\" style=\"display: none;\"><div style=\"display: table-cell;\"></div><div style=\"display: table-cell;\">tags&nbsp;=&nbsp;[],</div></div><div class=\"1252\" style=\"display: none;\"><div style=\"display: table-cell;\"></div><div style=\"display: table-cell;\">visible&nbsp;=&nbsp;True,</div></div><div class=\"1252\" style=\"display: none;\"><div style=\"display: table-cell;\"></div><div style=\"display: table-cell;\">width&nbsp;=&nbsp;None,</div></div><div class=\"1252\" style=\"display: none;\"><div style=\"display: table-cell;\"></div><div style=\"display: table-cell;\">width_policy&nbsp;=&nbsp;'auto')</div></div></div>\n",
       "<script>\n",
       "(function() {\n",
       "  let expanded = false;\n",
       "  const ellipsis = document.getElementById(\"1253\");\n",
       "  ellipsis.addEventListener(\"click\", function() {\n",
       "    const rows = document.getElementsByClassName(\"1252\");\n",
       "    for (let i = 0; i < rows.length; i++) {\n",
       "      const el = rows[i];\n",
       "      el.style.display = expanded ? \"none\" : \"table-row\";\n",
       "    }\n",
       "    ellipsis.innerHTML = expanded ? \"&hellip;)\" : \"&lsaquo;&lsaquo;&lsaquo;\";\n",
       "    expanded = !expanded;\n",
       "  });\n",
       "})();\n",
       "</script>\n"
      ],
      "text/plain": [
       "Column(id='1019', ...)"
      ]
     },
     "execution_count": 3,
     "metadata": {},
     "output_type": "execute_result"
    }
   ],
   "source": [
    "from bokeh.io import show\n",
    "import pandas as pd\n",
    " \n",
    "# 시간별 데이터 \n",
    "hourlyDf = pd.read_csv('hourly_weather.csv', encoding='utf-8')\n",
    "nameSelectTable(hourlyDf)"
   ]
  },
  {
   "cell_type": "code",
   "execution_count": null,
   "metadata": {},
   "outputs": [],
   "source": []
  }
 ],
 "metadata": {
  "interpreter": {
   "hash": "b059bc85c320021421c137b99aaec7b3924b4732fcc62b2c92e12345b82ec38a"
  },
  "kernelspec": {
   "display_name": "Python 3.9.7 ('midPrj')",
   "language": "python",
   "name": "python3"
  },
  "language_info": {
   "codemirror_mode": {
    "name": "ipython",
    "version": 3
   },
   "file_extension": ".py",
   "mimetype": "text/x-python",
   "name": "python",
   "nbconvert_exporter": "python",
   "pygments_lexer": "ipython3",
   "version": "3.9.7"
  },
  "orig_nbformat": 4
 },
 "nbformat": 4,
 "nbformat_minor": 2
}
