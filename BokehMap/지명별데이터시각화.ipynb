{
 "cells": [
  {
   "cell_type": "code",
   "execution_count": 25,
   "metadata": {},
   "outputs": [],
   "source": [
    "# 지역별 테이블 데이터 시각화 \n",
    "# customJs -> select 사용 \n",
    "def nameSelectTable(dailyDf,width=1200, height=800):\n",
    "    from datetime import date\n",
    "    from random import randint\n",
    "    from bokeh.layouts import widgetbox\n",
    "    from bokeh.models import ColumnDataSource, DataTable, TableColumn, CustomJS, Select,DateFormatter\n",
    "    from bokeh.io import show, output_file, output_notebook\n",
    "    from bokeh.layouts import row, column, layout\n",
    "    import pandas as pd\n",
    "\n",
    "    output_notebook()\n",
    "\n",
    "    # datetime 변경 \n",
    "    dailyDf[\"timestamp\"] = pd.to_datetime(dailyDf[\"datetime\"],format=\"%Y-%m-%d %H:%M:%S\", errors = 'coerce')   \n",
    "    dailyDf[\"sunrise\"] = pd.to_datetime(dailyDf[\"sunrise\"],format=\"%Y-%m-%d %H:%M:%S\", errors = 'coerce')     \n",
    "    dailyDf[\"sunset\"] = pd.to_datetime(dailyDf[\"sunset\"],format=\"%Y-%m-%d %H:%M:%S\", errors = 'coerce')     \n",
    "    dailyDf[\"moonrise\"] = pd.to_datetime(dailyDf[\"moonrise\"],format=\"%Y-%m-%d %H:%M:%S\", errors = 'coerce')    \n",
    "    dailyDf[\"moonset\"] = pd.to_datetime(dailyDf[\"moonrise\"],format=\"%Y-%m-%d %H:%M:%S\", errors = 'coerce')      \n",
    "\n",
    "    dailyDf['datetime'] = dailyDf.apply(lambda x: str(x['datetime']).split()[0],axis=1)  \n",
    "\n",
    "    # src1 : 원본 데이터 \n",
    "    src1 = ColumnDataSource(dailyDf)\n",
    "\n",
    "    # src2 : 수정 데이터 (날짜별 수정)\n",
    "    df2 = pd.DataFrame(columns =['name', 'timestamp',  'sunrise', 'sunset', 'moonrise', 'moonset', 'temp_morn', 'temp_eve', 'temp_min', 'temp_max', \n",
    "                'feels_like_morn', 'feels_like_eve', 'humidity', 'precipitation_probability', 'weather'])\n",
    "    src2 = ColumnDataSource(df2)\n",
    "    column2 = [\n",
    "            TableColumn(field=\"timestamp\", title=\"시간\", formatter=DateFormatter(format=\"%Y-%m-%d %H:%M:%S\")),\n",
    "            TableColumn(field=\"name\", title=\"지명\"),\n",
    "            TableColumn(field=\"sunrise\", title=\"일출\", formatter=DateFormatter(format=\"%Y-%m-%d %H:%M:%S\")),\n",
    "            TableColumn(field=\"sunset\", title=\"일몰\", formatter=DateFormatter(format=\"%Y-%m-%d %H:%M:%S\")),\n",
    "            TableColumn(field=\"moonrise\", title=\"월출\", formatter=DateFormatter(format=\"%Y-%m-%d %H:%M:%S\")),\n",
    "            TableColumn(field=\"moonset\", title=\"월몰\", formatter=DateFormatter(format=\"%Y-%m-%d %H:%M:%S\")),\n",
    "            TableColumn(field=\"temp_morn\", title=\"아침 기온 (˚C)\"),\n",
    "            TableColumn(field=\"temp_eve\", title=\"저녁 기온 (˚C)\"),\n",
    "            TableColumn(field=\"temp_min\", title=\"최저 기온 (˚C)\"),\n",
    "            TableColumn(field=\"temp_max\", title=\"최대 기온 (˚C)\"),\n",
    "            TableColumn(field=\"feels_like_morn\", title=\"아침 체감온도 (˚C)\"),\n",
    "            TableColumn(field=\"feels_like_eve\", title=\"저녁 체감온도 (˚C)\"),\n",
    "            TableColumn(field=\"humidity\", title=\"습도 (%)\"),\n",
    "            TableColumn(field=\"precipitation_probability\", title=\"강수확률 (%)\"),\n",
    "            TableColumn(field=\"weather\", title=\"날씨\"),\n",
    "        ]\n",
    "\n",
    "\n",
    "    # callback 함수 : \n",
    "    callback = CustomJS(args=dict(src1=src1, src2=src2), code='''\n",
    "        src2.clear()\n",
    "\n",
    "        var data = src1.data;\n",
    "        var f = cb_obj.value;\n",
    "        var date = data['datetime'];\n",
    "        var columns =  ['name', 'timestamp', 'sunrise', 'sunset', 'moonrise', 'moonset', 'temp_morn', 'temp_eve', 'temp_min', 'temp_max', \n",
    "                'feels_like_morn', 'feels_like_eve', 'humidity', 'precipitation_probability', 'weather'];\n",
    "\n",
    "        for (var i = 0; i < date.length; i++) {\n",
    "            console.log(data['name'][i] )\n",
    "\n",
    "            if(data['name'][i] == f){\n",
    "                for(var j=0; j < columns.length; j++){\n",
    "                    src2.data[columns[j]].push(src1.data[columns[j]][i]);\n",
    "                }\n",
    "            }\n",
    "        }\n",
    "\n",
    "        delete src2.data['index']\n",
    "        console.log(src2.data)\n",
    "\n",
    "        src2.change.emit();\n",
    "        ''')\n",
    "    \n",
    "    options = ['Please choose...'] + list(dailyDf[\"name\"].unique()) # 지역명 list\n",
    "    select = Select(title='지명', value=options[0], options=options) # select 초기화  \n",
    "    select.js_on_change('value', callback) # 지역을 고를 때 callback 함수 호출\n",
    "\n",
    "    data_table2= DataTable(source=src2, columns=column2,width=1200, height=800)  # dataTable 생성 \n",
    "    layout = column(select, data_table2) # 위/아래로 select, dataTable layout 생성 \n",
    "    \n",
    "\n",
    "    return layout\n"
   ]
  },
  {
   "cell_type": "code",
   "execution_count": 26,
   "metadata": {},
   "outputs": [],
   "source": [
    "# mysql Connection \n",
    "def mysqlConn(host=\"220.78.231.223\", port=3306, user=\"jueun\", passwd=\"jueun\", db=\"weather\",):    \n",
    "    import pymysql\n",
    "    import logging\n",
    "\n",
    "    try:\n",
    "        conn_db = pymysql.connect(host=host, port=port, user=user, passwd=passwd, db=db, charset=\"utf8\")\n",
    "        return conn_db\n",
    "\n",
    "    except Exception as ex:\n",
    "        logging.error(\"DB Connection Issue : {}\".format(ex))\n",
    "    "
   ]
  },
  {
   "cell_type": "code",
   "execution_count": 27,
   "metadata": {},
   "outputs": [],
   "source": [
    "def main():\n",
    "    from bokeh.io import show\n",
    "    import pandas as pd \n",
    "\n",
    "    # DB Connection\n",
    "    conn_db = mysqlConn(host=\"220.78.231.223\", port=3306, user=\"jueun\", passwd=\"jueun\", db=\"weather\")\n",
    " \n",
    "    sql = \"select * from weather.daily_weather;\"\n",
    "    dPickerDf = pd.read_sql_query(sql,conn_db)\n",
    "    datePickPlot = nameSelectTable(dPickerDf,width=1200, height=800)\n",
    "    \n",
    "    show(datePickPlot)\n",
    "    conn_db.close()\n",
    "    \n",
    "    return datePickPlot"
   ]
  },
  {
   "cell_type": "code",
   "execution_count": 28,
   "metadata": {},
   "outputs": [
    {
     "name": "stderr",
     "output_type": "stream",
     "text": [
      "C:\\Users\\Playdata\\anaconda3\\envs\\midPrj\\lib\\site-packages\\pandas\\io\\sql.py:761: UserWarning: pandas only support SQLAlchemy connectable(engine/connection) ordatabase string URI or sqlite3 DBAPI2 connectionother DBAPI2 objects are not tested, please consider using SQLAlchemy\n",
      "  warnings.warn(\n"
     ]
    },
    {
     "data": {
      "text/html": [
       "\n",
       "    <div class=\"bk-root\">\n",
       "        <a href=\"https://bokeh.org\" target=\"_blank\" class=\"bk-logo bk-logo-small bk-logo-notebook\"></a>\n",
       "        <span id=\"3847\">Loading BokehJS ...</span>\n",
       "    </div>"
      ]
     },
     "metadata": {},
     "output_type": "display_data"
    },
    {
     "data": {
      "application/javascript": "\n(function(root) {\n  function now() {\n    return new Date();\n  }\n\n  const force = true;\n\n  if (typeof root._bokeh_onload_callbacks === \"undefined\" || force === true) {\n    root._bokeh_onload_callbacks = [];\n    root._bokeh_is_loading = undefined;\n  }\n\n  const JS_MIME_TYPE = 'application/javascript';\n  const HTML_MIME_TYPE = 'text/html';\n  const EXEC_MIME_TYPE = 'application/vnd.bokehjs_exec.v0+json';\n  const CLASS_NAME = 'output_bokeh rendered_html';\n\n  /**\n   * Render data to the DOM node\n   */\n  function render(props, node) {\n    const script = document.createElement(\"script\");\n    node.appendChild(script);\n  }\n\n  /**\n   * Handle when an output is cleared or removed\n   */\n  function handleClearOutput(event, handle) {\n    const cell = handle.cell;\n\n    const id = cell.output_area._bokeh_element_id;\n    const server_id = cell.output_area._bokeh_server_id;\n    // Clean up Bokeh references\n    if (id != null && id in Bokeh.index) {\n      Bokeh.index[id].model.document.clear();\n      delete Bokeh.index[id];\n    }\n\n    if (server_id !== undefined) {\n      // Clean up Bokeh references\n      const cmd_clean = \"from bokeh.io.state import curstate; print(curstate().uuid_to_server['\" + server_id + \"'].get_sessions()[0].document.roots[0]._id)\";\n      cell.notebook.kernel.execute(cmd_clean, {\n        iopub: {\n          output: function(msg) {\n            const id = msg.content.text.trim();\n            if (id in Bokeh.index) {\n              Bokeh.index[id].model.document.clear();\n              delete Bokeh.index[id];\n            }\n          }\n        }\n      });\n      // Destroy server and session\n      const cmd_destroy = \"import bokeh.io.notebook as ion; ion.destroy_server('\" + server_id + \"')\";\n      cell.notebook.kernel.execute(cmd_destroy);\n    }\n  }\n\n  /**\n   * Handle when a new output is added\n   */\n  function handleAddOutput(event, handle) {\n    const output_area = handle.output_area;\n    const output = handle.output;\n\n    // limit handleAddOutput to display_data with EXEC_MIME_TYPE content only\n    if ((output.output_type != \"display_data\") || (!Object.prototype.hasOwnProperty.call(output.data, EXEC_MIME_TYPE))) {\n      return\n    }\n\n    const toinsert = output_area.element.find(\".\" + CLASS_NAME.split(' ')[0]);\n\n    if (output.metadata[EXEC_MIME_TYPE][\"id\"] !== undefined) {\n      toinsert[toinsert.length - 1].firstChild.textContent = output.data[JS_MIME_TYPE];\n      // store reference to embed id on output_area\n      output_area._bokeh_element_id = output.metadata[EXEC_MIME_TYPE][\"id\"];\n    }\n    if (output.metadata[EXEC_MIME_TYPE][\"server_id\"] !== undefined) {\n      const bk_div = document.createElement(\"div\");\n      bk_div.innerHTML = output.data[HTML_MIME_TYPE];\n      const script_attrs = bk_div.children[0].attributes;\n      for (let i = 0; i < script_attrs.length; i++) {\n        toinsert[toinsert.length - 1].firstChild.setAttribute(script_attrs[i].name, script_attrs[i].value);\n        toinsert[toinsert.length - 1].firstChild.textContent = bk_div.children[0].textContent\n      }\n      // store reference to server id on output_area\n      output_area._bokeh_server_id = output.metadata[EXEC_MIME_TYPE][\"server_id\"];\n    }\n  }\n\n  function register_renderer(events, OutputArea) {\n\n    function append_mime(data, metadata, element) {\n      // create a DOM node to render to\n      const toinsert = this.create_output_subarea(\n        metadata,\n        CLASS_NAME,\n        EXEC_MIME_TYPE\n      );\n      this.keyboard_manager.register_events(toinsert);\n      // Render to node\n      const props = {data: data, metadata: metadata[EXEC_MIME_TYPE]};\n      render(props, toinsert[toinsert.length - 1]);\n      element.append(toinsert);\n      return toinsert\n    }\n\n    /* Handle when an output is cleared or removed */\n    events.on('clear_output.CodeCell', handleClearOutput);\n    events.on('delete.Cell', handleClearOutput);\n\n    /* Handle when a new output is added */\n    events.on('output_added.OutputArea', handleAddOutput);\n\n    /**\n     * Register the mime type and append_mime function with output_area\n     */\n    OutputArea.prototype.register_mime_type(EXEC_MIME_TYPE, append_mime, {\n      /* Is output safe? */\n      safe: true,\n      /* Index of renderer in `output_area.display_order` */\n      index: 0\n    });\n  }\n\n  // register the mime type if in Jupyter Notebook environment and previously unregistered\n  if (root.Jupyter !== undefined) {\n    const events = require('base/js/events');\n    const OutputArea = require('notebook/js/outputarea').OutputArea;\n\n    if (OutputArea.prototype.mime_types().indexOf(EXEC_MIME_TYPE) == -1) {\n      register_renderer(events, OutputArea);\n    }\n  }\n\n  \n  if (typeof (root._bokeh_timeout) === \"undefined\" || force === true) {\n    root._bokeh_timeout = Date.now() + 5000;\n    root._bokeh_failed_load = false;\n  }\n\n  const NB_LOAD_WARNING = {'data': {'text/html':\n     \"<div style='background-color: #fdd'>\\n\"+\n     \"<p>\\n\"+\n     \"BokehJS does not appear to have successfully loaded. If loading BokehJS from CDN, this \\n\"+\n     \"may be due to a slow or bad network connection. Possible fixes:\\n\"+\n     \"</p>\\n\"+\n     \"<ul>\\n\"+\n     \"<li>re-rerun `output_notebook()` to attempt to load from CDN again, or</li>\\n\"+\n     \"<li>use INLINE resources instead, as so:</li>\\n\"+\n     \"</ul>\\n\"+\n     \"<code>\\n\"+\n     \"from bokeh.resources import INLINE\\n\"+\n     \"output_notebook(resources=INLINE)\\n\"+\n     \"</code>\\n\"+\n     \"</div>\"}};\n\n  function display_loaded() {\n    const el = document.getElementById(\"3847\");\n    if (el != null) {\n      el.textContent = \"BokehJS is loading...\";\n    }\n    if (root.Bokeh !== undefined) {\n      if (el != null) {\n        el.textContent = \"BokehJS \" + root.Bokeh.version + \" successfully loaded.\";\n      }\n    } else if (Date.now() < root._bokeh_timeout) {\n      setTimeout(display_loaded, 100)\n    }\n  }\n\n\n  function run_callbacks() {\n    try {\n      root._bokeh_onload_callbacks.forEach(function(callback) {\n        if (callback != null)\n          callback();\n      });\n    } finally {\n      delete root._bokeh_onload_callbacks\n    }\n    console.debug(\"Bokeh: all callbacks have finished\");\n  }\n\n  function load_libs(css_urls, js_urls, callback) {\n    if (css_urls == null) css_urls = [];\n    if (js_urls == null) js_urls = [];\n\n    root._bokeh_onload_callbacks.push(callback);\n    if (root._bokeh_is_loading > 0) {\n      console.debug(\"Bokeh: BokehJS is being loaded, scheduling callback at\", now());\n      return null;\n    }\n    if (js_urls == null || js_urls.length === 0) {\n      run_callbacks();\n      return null;\n    }\n    console.debug(\"Bokeh: BokehJS not loaded, scheduling load and callback at\", now());\n    root._bokeh_is_loading = css_urls.length + js_urls.length;\n\n    function on_load() {\n      root._bokeh_is_loading--;\n      if (root._bokeh_is_loading === 0) {\n        console.debug(\"Bokeh: all BokehJS libraries/stylesheets loaded\");\n        run_callbacks()\n      }\n    }\n\n    function on_error(url) {\n      console.error(\"failed to load \" + url);\n    }\n\n    for (let i = 0; i < css_urls.length; i++) {\n      const url = css_urls[i];\n      const element = document.createElement(\"link\");\n      element.onload = on_load;\n      element.onerror = on_error.bind(null, url);\n      element.rel = \"stylesheet\";\n      element.type = \"text/css\";\n      element.href = url;\n      console.debug(\"Bokeh: injecting link tag for BokehJS stylesheet: \", url);\n      document.body.appendChild(element);\n    }\n\n    for (let i = 0; i < js_urls.length; i++) {\n      const url = js_urls[i];\n      const element = document.createElement('script');\n      element.onload = on_load;\n      element.onerror = on_error.bind(null, url);\n      element.async = false;\n      element.src = url;\n      console.debug(\"Bokeh: injecting script tag for BokehJS library: \", url);\n      document.head.appendChild(element);\n    }\n  };\n\n  function inject_raw_css(css) {\n    const element = document.createElement(\"style\");\n    element.appendChild(document.createTextNode(css));\n    document.body.appendChild(element);\n  }\n\n  \n  const js_urls = [\"https://cdn.bokeh.org/bokeh/release/bokeh-2.4.2.min.js\", \"https://cdn.bokeh.org/bokeh/release/bokeh-gl-2.4.2.min.js\", \"https://cdn.bokeh.org/bokeh/release/bokeh-widgets-2.4.2.min.js\", \"https://cdn.bokeh.org/bokeh/release/bokeh-tables-2.4.2.min.js\", \"https://cdn.bokeh.org/bokeh/release/bokeh-mathjax-2.4.2.min.js\"];\n  const css_urls = [];\n  \n\n  const inline_js = [\n    function(Bokeh) {\n      Bokeh.set_log_level(\"info\");\n    },\n    function(Bokeh) {\n    \n    \n    }\n  ];\n\n  function run_inline_js() {\n    \n    if (root.Bokeh !== undefined || force === true) {\n      \n    for (let i = 0; i < inline_js.length; i++) {\n      inline_js[i].call(root, root.Bokeh);\n    }\n    if (force === true) {\n        display_loaded();\n      }} else if (Date.now() < root._bokeh_timeout) {\n      setTimeout(run_inline_js, 100);\n    } else if (!root._bokeh_failed_load) {\n      console.log(\"Bokeh: BokehJS failed to load within specified timeout.\");\n      root._bokeh_failed_load = true;\n    } else if (force !== true) {\n      const cell = $(document.getElementById(\"3847\")).parents('.cell').data().cell;\n      cell.output_area.append_execute_result(NB_LOAD_WARNING)\n    }\n\n  }\n\n  if (root._bokeh_is_loading === 0) {\n    console.debug(\"Bokeh: BokehJS loaded, going straight to plotting\");\n    run_inline_js();\n  } else {\n    load_libs(css_urls, js_urls, function() {\n      console.debug(\"Bokeh: BokehJS plotting callback run at\", now());\n      run_inline_js();\n    });\n  }\n}(window));",
      "application/vnd.bokehjs_load.v0+json": ""
     },
     "metadata": {},
     "output_type": "display_data"
    },
    {
     "data": {
      "text/html": [
       "\n",
       "\n",
       "\n",
       "\n",
       "\n",
       "\n",
       "  <div class=\"bk-root\" id=\"4027a4a0-f469-4563-8c1e-4f1b59d6a7a4\" data-root-id=\"3880\"></div>\n"
      ]
     },
     "metadata": {},
     "output_type": "display_data"
    },
    {
     "data": {
      "application/javascript": "(function(root) {\n  function embed_document(root) {\n    \n  const docs_json = {\"d14a2fcc-c2b7-4470-bf08-be4da7d7a889\":{\"defs\":[],\"roots\":{\"references\":[{\"attributes\":{\"children\":[{\"id\":\"3876\"},{\"id\":\"3877\"}]},\"id\":\"3880\",\"type\":\"Column\"},{\"attributes\":{\"editor\":{\"id\":\"3928\"},\"field\":\"feels_like_eve\",\"formatter\":{\"id\":\"3927\"},\"title\":\"\\uc800\\ub141 \\uccb4\\uac10\\uc628\\ub3c4 (\\u02daC)\"},\"id\":\"3871\",\"type\":\"TableColumn\"},{\"attributes\":{\"editor\":{\"id\":\"3926\"},\"field\":\"feels_like_morn\",\"formatter\":{\"id\":\"3925\"},\"title\":\"\\uc544\\uce68 \\uccb4\\uac10\\uc628\\ub3c4 (\\u02daC)\"},\"id\":\"3870\",\"type\":\"TableColumn\"},{\"attributes\":{},\"id\":\"3926\",\"type\":\"StringEditor\"},{\"attributes\":{\"editor\":{\"id\":\"3916\"},\"field\":\"moonset\",\"formatter\":{\"id\":\"3863\"},\"title\":\"\\uc6d4\\ubab0\"},\"id\":\"3864\",\"type\":\"TableColumn\"},{\"attributes\":{},\"id\":\"3925\",\"type\":\"StringFormatter\"},{\"attributes\":{\"editor\":{\"id\":\"3920\"},\"field\":\"temp_eve\",\"formatter\":{\"id\":\"3919\"},\"title\":\"\\uc800\\ub141 \\uae30\\uc628 (\\u02daC)\"},\"id\":\"3867\",\"type\":\"TableColumn\"},{\"attributes\":{\"editor\":{\"id\":\"3934\"},\"field\":\"weather\",\"formatter\":{\"id\":\"3933\"},\"title\":\"\\ub0a0\\uc528\"},\"id\":\"3874\",\"type\":\"TableColumn\"},{\"attributes\":{},\"id\":\"3933\",\"type\":\"StringFormatter\"},{\"attributes\":{\"editor\":{\"id\":\"3915\"},\"field\":\"moonrise\",\"formatter\":{\"id\":\"3860\"},\"title\":\"\\uc6d4\\ucd9c\"},\"id\":\"3861\",\"type\":\"TableColumn\"},{\"attributes\":{\"editor\":{\"id\":\"3914\"},\"field\":\"sunset\",\"formatter\":{\"id\":\"3857\"},\"title\":\"\\uc77c\\ubab0\"},\"id\":\"3858\",\"type\":\"TableColumn\"},{\"attributes\":{},\"id\":\"3934\",\"type\":\"StringEditor\"},{\"attributes\":{\"editor\":{\"id\":\"3912\"},\"field\":\"name\",\"formatter\":{\"id\":\"3911\"},\"title\":\"\\uc9c0\\uba85\"},\"id\":\"3853\",\"type\":\"TableColumn\"},{\"attributes\":{},\"id\":\"3922\",\"type\":\"StringEditor\"},{\"attributes\":{\"editor\":{\"id\":\"3922\"},\"field\":\"temp_min\",\"formatter\":{\"id\":\"3921\"},\"title\":\"\\ucd5c\\uc800 \\uae30\\uc628 (\\u02daC)\"},\"id\":\"3868\",\"type\":\"TableColumn\"},{\"attributes\":{\"format\":\"%Y-%m-%d %H:%M:%S\"},\"id\":\"3863\",\"type\":\"DateFormatter\"},{\"attributes\":{},\"id\":\"3923\",\"type\":\"StringFormatter\"},{\"attributes\":{},\"id\":\"3935\",\"type\":\"UnionRenderers\"},{\"attributes\":{\"format\":\"%Y-%m-%d %H:%M:%S\"},\"id\":\"3854\",\"type\":\"DateFormatter\"},{\"attributes\":{\"editor\":{\"id\":\"3910\"},\"field\":\"timestamp\",\"formatter\":{\"id\":\"3850\"},\"title\":\"\\uc2dc\\uac04\"},\"id\":\"3851\",\"type\":\"TableColumn\"},{\"attributes\":{\"args\":{\"src1\":{\"id\":\"3848\"},\"src2\":{\"id\":\"3849\"}},\"code\":\"\\n        src2.clear()\\n\\n        var data = src1.data;\\n        var f = cb_obj.value;\\n        var date = data['datetime'];\\n        var columns =  ['name', 'timestamp', 'sunrise', 'sunset', 'moonrise', 'moonset', 'temp_morn', 'temp_eve', 'temp_min', 'temp_max', \\n                'feels_like_morn', 'feels_like_eve', 'humidity', 'precipitation_probability', 'weather'];\\n\\n        for (var i = 0; i < date.length; i++) {\\n            console.log(data['name'][i] )\\n\\n            if(data['name'][i] == f){\\n                for(var j=0; j < columns.length; j++){\\n                    src2.data[columns[j]].push(src1.data[columns[j]][i]);\\n                }\\n            }\\n        }\\n\\n        delete src2.data['index']\\n        console.log(src2.data)\\n\\n        src2.change.emit();\\n        \"},\"id\":\"3875\",\"type\":\"CustomJS\"},{\"attributes\":{},\"id\":\"3924\",\"type\":\"StringEditor\"},{\"attributes\":{\"editor\":{\"id\":\"3913\"},\"field\":\"sunrise\",\"formatter\":{\"id\":\"3854\"},\"title\":\"\\uc77c\\ucd9c\"},\"id\":\"3855\",\"type\":\"TableColumn\"},{\"attributes\":{},\"id\":\"3936\",\"type\":\"Selection\"},{\"attributes\":{\"format\":\"%Y-%m-%d %H:%M:%S\"},\"id\":\"3857\",\"type\":\"DateFormatter\"},{\"attributes\":{},\"id\":\"3913\",\"type\":\"StringEditor\"},{\"attributes\":{},\"id\":\"3920\",\"type\":\"StringEditor\"},{\"attributes\":{},\"id\":\"3910\",\"type\":\"StringEditor\"},{\"attributes\":{},\"id\":\"3919\",\"type\":\"StringFormatter\"},{\"attributes\":{},\"id\":\"3921\",\"type\":\"StringFormatter\"},{\"attributes\":{\"data\":{\"datetime\":[\"2022-02-24\",\"2022-02-25\",\"2022-02-26\",\"2022-02-27\",\"2022-02-28\",\"2022-03-01\",\"2022-03-02\",\"2022-03-03\",\"2022-02-24\",\"2022-02-25\",\"2022-02-26\",\"2022-02-27\",\"2022-02-28\",\"2022-03-01\",\"2022-03-02\",\"2022-03-03\",\"2022-02-24\",\"2022-02-25\",\"2022-02-26\",\"2022-02-27\",\"2022-02-28\",\"2022-03-01\",\"2022-03-02\",\"2022-03-03\",\"2022-02-24\",\"2022-02-25\",\"2022-02-26\",\"2022-02-27\",\"2022-02-28\",\"2022-03-01\",\"2022-03-02\",\"2022-03-03\",\"2022-02-24\",\"2022-02-25\",\"2022-02-26\",\"2022-02-27\",\"2022-02-28\",\"2022-03-01\",\"2022-03-02\",\"2022-03-03\",\"2022-02-24\",\"2022-02-25\",\"2022-02-26\",\"2022-02-27\",\"2022-02-28\",\"2022-03-01\",\"2022-03-02\",\"2022-03-03\",\"2022-02-24\",\"2022-02-25\",\"2022-02-26\",\"2022-02-27\",\"2022-02-28\",\"2022-03-01\",\"2022-03-02\",\"2022-03-03\",\"2022-02-24\",\"2022-02-25\",\"2022-02-26\",\"2022-02-27\",\"2022-02-28\",\"2022-03-01\",\"2022-03-02\",\"2022-03-03\",\"2022-02-24\",\"2022-02-25\",\"2022-02-26\",\"2022-02-27\",\"2022-02-28\",\"2022-03-01\",\"2022-03-02\",\"2022-03-03\",\"2022-02-24\",\"2022-02-25\",\"2022-02-26\",\"2022-02-27\",\"2022-02-28\",\"2022-03-01\",\"2022-03-02\",\"2022-03-03\",\"2022-02-24\",\"2022-02-25\",\"2022-02-26\",\"2022-02-27\",\"2022-02-28\",\"2022-03-01\",\"2022-03-02\",\"2022-03-03\",\"2022-02-24\",\"2022-02-25\",\"2022-02-26\",\"2022-02-27\",\"2022-02-28\",\"2022-03-01\",\"2022-03-02\",\"2022-03-03\"],\"feels_like_eve\":[0,5,10,5,10,5,3,10,3,9,9,10,10,10,8,12,1,6,9,5,10,5,4,11,0,6,5,8,8,8,6,9,1,6,10,5,10,6,4,11,1,6,7,6,9,6,5,11,1,6,9,5,10,5,5,11,0,5,6,6,9,6,5,10,0,5,9,5,10,6,3,10,2,9,10,8,10,10,6,11,1,6,9,5,10,5,4,11,1,6,9,5,10,5,4,11],\"feels_like_morn\":[-4,1,3,2,6,10,1,5,-3,2,4,4,7,11,4,8,-3,1,5,3,7,11,2,5,-5,-1,3,1,5,8,1,7,-3,1,5,3,7,11,3,7,-4,0,4,2,7,10,2,6,-2,2,5,3,8,11,3,7,-4,0,4,2,6,10,1,5,-3,1,3,2,7,10,2,6,-3,1,5,3,8,11,3,8,-2,2,5,3,7,11,2,7,-2,2,5,3,7,11,2,7],\"humidity\":[57,52,39,52,53,76,52,39,47,45,49,44,57,70,41,45,54,51,51,49,54,75,51,43,50,43,50,43,58,71,40,42,59,53,46,54,57,77,54,47,52,47,50,46,56,73,46,42,56,53,50,54,55,78,55,40,52,47,50,46,56,73,46,42,57,53,40,52,52,77,53,38,53,48,48,48,57,73,47,46,56,53,53,54,56,78,55,43,56,52,52,53,56,78,55,41],\"index\":[0,1,2,3,4,5,6,7,8,9,10,11,12,13,14,15,16,17,18,19,20,21,22,23,24,25,26,27,28,29,30,31,32,33,34,35,36,37,38,39,40,41,42,43,44,45,46,47,48,49,50,51,52,53,54,55,56,57,58,59,60,61,62,63,64,65,66,67,68,69,70,71,72,73,74,75,76,77,78,79,80,81,82,83,84,85,86,87,88,89,90,91,92,93,94,95],\"moonrise\":{\"__ndarray__\":\"AABg43Xyd0IAAN47zPJ3QgAAXJQi83dCAABQhnjzd0IAALoRzvN3QgAAThkj9HdCAAD+yHf0d0IAAMogzPR3QgAAYON18ndCAADeO8zyd0IAALaFIvN3QgAAqnd483dCAAAUA87zd0IAAE4ZI/R3QgAAWLp39HdCAADKIMz0d0IAAAbydfJ3QgAAhErM8ndCAAACoyLzd0IAAPaUePN3QgAAYCDO83dCAAD0JyP0d0IAAKTXd/R3QgAAFj7M9HdCAAAG8nXyd0IAAIRKzPJ3QgAAXJQi83dCAABQhnjzd0IAALoRzvN3QgAA9Ccj9HdCAAD+yHf0d0IAAHAvzPR3QgAAutR18ndCAAA4Lczyd0IAALaFIvN3QgAAqnd483dCAAAUA87zd0IAAKgKI/R3QgAAWLp39HdCAAAkEsz0d0IAAAbydfJ3QgAAhErM8ndCAABclCLzd0IAAPaUePN3QgAAYCDO83dCAAD0JyP0d0IAAKTXd/R3QgAAcC/M9HdCAACsAHbyd0IAACpZzPJ3QgAAAqMi83dCAAD2lHjzd0IAAAYvzvN3QgAAmjYj9HdCAACk13f0d0IAAHAvzPR3QgAABvJ18ndCAACESszyd0IAAFyUIvN3QgAA9pR483dCAABgIM7zd0IAAPQnI/R3QgAApNd39HdCAABwL8z0d0IAAAbydfJ3QgAAhErM8ndCAABclCLzd0IAAFCGePN3QgAAuhHO83dCAAD0JyP0d0IAAP7Id/R3QgAAyiDM9HdCAAC61HXyd0IAADgtzPJ3QgAAtoUi83dCAACqd3jzd0IAABQDzvN3QgAAqAoj9HdCAABYunf0d0IAACQSzPR3QgAArAB28ndCAAAqWczyd0IAAAKjIvN3QgAAnKN483dCAAAGL87zd0IAAJo2I/R3QgAASuZ39HdCAAAWPsz0d0IAAKwAdvJ3QgAAKlnM8ndCAAACoyLzd0IAAPaUePN3QgAABi/O83dCAACaNiP0d0IAAKTXd/R3QgAAFj7M9HdC\",\"dtype\":\"float64\",\"order\":\"little\",\"shape\":[96]},\"moonset\":{\"__ndarray__\":\"AABg43Xyd0IAAN47zPJ3QgAAXJQi83dCAABQhnjzd0IAALoRzvN3QgAAThkj9HdCAAD+yHf0d0IAAMogzPR3QgAAYON18ndCAADeO8zyd0IAALaFIvN3QgAAqnd483dCAAAUA87zd0IAAE4ZI/R3QgAAWLp39HdCAADKIMz0d0IAAAbydfJ3QgAAhErM8ndCAAACoyLzd0IAAPaUePN3QgAAYCDO83dCAAD0JyP0d0IAAKTXd/R3QgAAFj7M9HdCAAAG8nXyd0IAAIRKzPJ3QgAAXJQi83dCAABQhnjzd0IAALoRzvN3QgAA9Ccj9HdCAAD+yHf0d0IAAHAvzPR3QgAAutR18ndCAAA4Lczyd0IAALaFIvN3QgAAqnd483dCAAAUA87zd0IAAKgKI/R3QgAAWLp39HdCAAAkEsz0d0IAAAbydfJ3QgAAhErM8ndCAABclCLzd0IAAPaUePN3QgAAYCDO83dCAAD0JyP0d0IAAKTXd/R3QgAAcC/M9HdCAACsAHbyd0IAACpZzPJ3QgAAAqMi83dCAAD2lHjzd0IAAAYvzvN3QgAAmjYj9HdCAACk13f0d0IAAHAvzPR3QgAABvJ18ndCAACESszyd0IAAFyUIvN3QgAA9pR483dCAABgIM7zd0IAAPQnI/R3QgAApNd39HdCAABwL8z0d0IAAAbydfJ3QgAAhErM8ndCAABclCLzd0IAAFCGePN3QgAAuhHO83dCAAD0JyP0d0IAAP7Id/R3QgAAyiDM9HdCAAC61HXyd0IAADgtzPJ3QgAAtoUi83dCAACqd3jzd0IAABQDzvN3QgAAqAoj9HdCAABYunf0d0IAACQSzPR3QgAArAB28ndCAAAqWczyd0IAAAKjIvN3QgAAnKN483dCAAAGL87zd0IAAJo2I/R3QgAASuZ39HdCAAAWPsz0d0IAAKwAdvJ3QgAAKlnM8ndCAAACoyLzd0IAAPaUePN3QgAABi/O83dCAACaNiP0d0IAAKTXd/R3QgAAFj7M9HdC\",\"dtype\":\"float64\",\"order\":\"little\",\"shape\":[96]},\"name\":[\"\\uad6c\\uc88c\\uc74d\",\"\\uad6c\\uc88c\\uc74d\",\"\\uad6c\\uc88c\\uc74d\",\"\\uad6c\\uc88c\\uc74d\",\"\\uad6c\\uc88c\\uc74d\",\"\\uad6c\\uc88c\\uc74d\",\"\\uad6c\\uc88c\\uc74d\",\"\\uad6c\\uc88c\\uc74d\",\"\\ub0a8\\uc6d0\\uc74d\",\"\\ub0a8\\uc6d0\\uc74d\",\"\\ub0a8\\uc6d0\\uc74d\",\"\\ub0a8\\uc6d0\\uc74d\",\"\\ub0a8\\uc6d0\\uc74d\",\"\\ub0a8\\uc6d0\\uc74d\",\"\\ub0a8\\uc6d0\\uc74d\",\"\\ub0a8\\uc6d0\\uc74d\",\"\\ub300\\uc815\\uc74d\",\"\\ub300\\uc815\\uc74d\",\"\\ub300\\uc815\\uc74d\",\"\\ub300\\uc815\\uc74d\",\"\\ub300\\uc815\\uc74d\",\"\\ub300\\uc815\\uc74d\",\"\\ub300\\uc815\\uc74d\",\"\\ub300\\uc815\\uc74d\",\"\\uc11c\\uadc0\\ud3ec\\uc2dc\",\"\\uc11c\\uadc0\\ud3ec\\uc2dc\",\"\\uc11c\\uadc0\\ud3ec\\uc2dc\",\"\\uc11c\\uadc0\\ud3ec\\uc2dc\",\"\\uc11c\\uadc0\\ud3ec\\uc2dc\",\"\\uc11c\\uadc0\\ud3ec\\uc2dc\",\"\\uc11c\\uadc0\\ud3ec\\uc2dc\",\"\\uc11c\\uadc0\\ud3ec\\uc2dc\",\"\\uc131\\uc0b0\\uc74d\",\"\\uc131\\uc0b0\\uc74d\",\"\\uc131\\uc0b0\\uc74d\",\"\\uc131\\uc0b0\\uc74d\",\"\\uc131\\uc0b0\\uc74d\",\"\\uc131\\uc0b0\\uc74d\",\"\\uc131\\uc0b0\\uc74d\",\"\\uc131\\uc0b0\\uc74d\",\"\\uc548\\ub355\\uba74\",\"\\uc548\\ub355\\uba74\",\"\\uc548\\ub355\\uba74\",\"\\uc548\\ub355\\uba74\",\"\\uc548\\ub355\\uba74\",\"\\uc548\\ub355\\uba74\",\"\\uc548\\ub355\\uba74\",\"\\uc548\\ub355\\uba74\",\"\\uc560\\uc6d4\\uc74d\",\"\\uc560\\uc6d4\\uc74d\",\"\\uc560\\uc6d4\\uc74d\",\"\\uc560\\uc6d4\\uc74d\",\"\\uc560\\uc6d4\\uc74d\",\"\\uc560\\uc6d4\\uc74d\",\"\\uc560\\uc6d4\\uc74d\",\"\\uc560\\uc6d4\\uc74d\",\"\\uc81c\\uc8fc\\uc2dc\",\"\\uc81c\\uc8fc\\uc2dc\",\"\\uc81c\\uc8fc\\uc2dc\",\"\\uc81c\\uc8fc\\uc2dc\",\"\\uc81c\\uc8fc\\uc2dc\",\"\\uc81c\\uc8fc\\uc2dc\",\"\\uc81c\\uc8fc\\uc2dc\",\"\\uc81c\\uc8fc\\uc2dc\",\"\\uc870\\ucc9c\\uc74d\",\"\\uc870\\ucc9c\\uc74d\",\"\\uc870\\ucc9c\\uc74d\",\"\\uc870\\ucc9c\\uc74d\",\"\\uc870\\ucc9c\\uc74d\",\"\\uc870\\ucc9c\\uc74d\",\"\\uc870\\ucc9c\\uc74d\",\"\\uc870\\ucc9c\\uc74d\",\"\\ud45c\\uc120\\uba74\",\"\\ud45c\\uc120\\uba74\",\"\\ud45c\\uc120\\uba74\",\"\\ud45c\\uc120\\uba74\",\"\\ud45c\\uc120\\uba74\",\"\\ud45c\\uc120\\uba74\",\"\\ud45c\\uc120\\uba74\",\"\\ud45c\\uc120\\uba74\",\"\\ud55c\\uacbd\\uba74\",\"\\ud55c\\uacbd\\uba74\",\"\\ud55c\\uacbd\\uba74\",\"\\ud55c\\uacbd\\uba74\",\"\\ud55c\\uacbd\\uba74\",\"\\ud55c\\uacbd\\uba74\",\"\\ud55c\\uacbd\\uba74\",\"\\ud55c\\uacbd\\uba74\",\"\\ud55c\\ub9bc\\uc74d\",\"\\ud55c\\ub9bc\\uc74d\",\"\\ud55c\\ub9bc\\uc74d\",\"\\ud55c\\ub9bc\\uc74d\",\"\\ud55c\\ub9bc\\uc74d\",\"\\ud55c\\ub9bc\\uc74d\",\"\\ud55c\\ub9bc\\uc74d\",\"\\ud55c\\ub9bc\\uc74d\"],\"precipitation_probability\":[0,0,0,0,0,60,44,0,0,0,0,0,0,81,66,0,0,0,0,0,0,77,66,0,0,0,0,0,0,77,65,0,0,0,0,0,0,71,53,0,0,0,0,0,0,77,65,0,0,0,0,0,0,60,48,0,0,0,0,0,0,75,63,0,0,0,0,0,0,59,45,0,0,0,0,0,0,79,62,0,0,0,0,0,0,67,53,0,0,0,0,0,0,63,51,0],\"sunrise\":{\"__ndarray__\":\"AACOCoryd0IAgHVf3PJ3QgAA4LMu83dCAIBKCIHzd0IAgHZc0/N3QgCAorAl9HdCAIBRBHj0d0IAgABYyvR3QgAAmgiK8ndCAICBXdzyd0IAgCqyLvN3QgCA0waB83dCAAA+W9Pzd0IAAGqvJfR3QgCAVwN49HdCAIAGV8r0d0IAgDYjivJ3QgAAHnjc8ndCAIAFzS7zd0IAgK4hgfN3QgCA2nXT83dCAIAGyiX0d0IAgDIeePR3QgCA4XHK9HdCAAC9F4ryd0IAgKRs3PJ3QgAAjMEu83dCAID2FYHzd0IAAGFq0/N3QgAAjb4l9HdCAIB6Enj0d0IAAGhmyvR3QgCAkf+J8ndCAAB5VNzyd0IAACKpLvN3QgCAjP2A83dCAIC4UdPzd0IAgOSlJfR3QgAA0vl39HdCAACBTcr0d0IAABAfivJ3QgCA93Pc8ndCAADfyC7zd0IAgEkdgfN3QgAAtHHT83dCAADgxSX0d0IAgM0ZePR3QgAAu23K9HdCAAD+IYryd0IAAKd23PJ3QgAAUMsu83dCAAD5H4Hzd0IAACV00/N3QgCAEsgl9HdCAAAAHHj0d0IAAK9vyvR3QgCA1x2K8ndCAID9ctzyd0IAgKbHLvN3QgCATxyB83dCAIB7cNPzd0IAgKfEJfR3QgAAlRh49HdCAICCbMr0d0IAgCURivJ3QgCAzmXc8ndCAIB3ui7zd0IAAOIOgfN3QgAADmPT83dCAID7tiX0d0IAAOkKePR3QgAAmF7K9HdCAIB/Aoryd0IAgKVX3PJ3QgCATqwu83dCAAC5AIHzd0IAgCNV0/N3QgCAT6kl9HdCAAA9/Xf0d0IAAOxQyvR3QgAA1CiK8ndCAIC7fdzyd0IAAKPSLvN3QgCADSeB83dCAIA5e9Pzd0IAgGXPJfR3QgAAUyN49HdCAIBAd8r0d0IAgK0kivJ3QgAAlXnc8ndCAAA+zi7zd0IAgKgigfN3QgAAE3fT83dCAIAAyyX0d0IAAO4eePR3QgCA23LK9HdC\",\"dtype\":\"float64\",\"order\":\"little\",\"shape\":[96]},\"sunset\":{\"__ndarray__\":\"AID0wLDyd0IAgGYzA/N3QgAAmqVV83dCAIDNF6jzd0IAgMKJ+vN3QgCAt/tM9HdCAICsbZ/0d0IAAGPf8fR3QgCAU8aw8ndCAACHOAPzd0IAgLqqVfN3QgCArxyo83dCAICkjvrzd0IAAFsATfR3QgCAEXKf9HdCAADI4/H0d0IAgKXisPJ3QgAA2VQD83dCAADOxlXzd0IAAMM4qPN3QgAAuKr683dCAIBuHE30d0IAACWOn/R3QgAAnf/x9HdCAAC11bDyd0IAgOhHA/N3QgAAHLpV83dCAAARLKjzd0IAAAae+vN3QgCAvA9N9HdCAABzgZ/0d0IAAOvy8fR3QgCAJLmw8ndCAABYKwPzd0IAgIudVfN3QgCAgA+o83dCAIB1gfrzd0IAgGrzTPR3QgAAIWWf9HdCAIDX1vH0d0IAAIXdsPJ3QgCAuE8D83dCAICtwVXzd0IAAOEzqPN3QgCAl6X683dCAABOF030d0IAgASJn/R3QgAAu/rx9HdCAIDV2rDyd0IAgEdNA/N3QgAAe79V83dCAABwMajzd0IAAGWj+vN3QgAAWhVN9HdCAIAQh5/0d0IAAMf48fR3QgAADtyw8ndCAAADTgPzd0IAgDbAVfN3QgCAKzKo83dCAIAgpPrzd0IAANcVTfR3QgCAjYef9HdCAABE+fH0d0IAAAnIsPJ3QgCAPDoD83dCAICurFXzd0IAgKMeqPN3QgAA15D683dCAADMAk30d0IAgIJ0n/R3QgAAOebx9HdCAAA/v7Dyd0IAgHIxA/N3QgAApqNV83dCAACbFajzd0IAAJCH+vN3QgCARvlM9HdCAAD9ap/0d0IAgLPc8fR3QgAA2OSw8ndCAIALVwPzd0IAAD/JVfN3QgAANDuo83dCAAAprfrzd0IAAB4fTfR3QgCA1JCf9HdCAACLAvL0d0IAgDrfsPJ3QgAAblED83dCAIChw1Xzd0IAgJY1qPN3QgCAi6f683dCAICAGU30d0IAADeLn/R3QgCA7fzx9HdC\",\"dtype\":\"float64\",\"order\":\"little\",\"shape\":[96]},\"temp_eve\":[5,8,11,8,11,9,7,12,6,9,11,10,12,11,10,13,6,8,10,9,11,9,8,12,4,7,9,8,10,10,8,11,6,9,11,9,12,10,8,12,5,8,10,8,11,9,8,12,6,8,10,8,11,9,7,12,5,7,9,8,10,9,8,11,5,8,11,8,11,9,7,12,6,9,11,9,12,11,9,13,6,8,10,8,11,9,8,13,6,8,10,8,11,9,8,13],\"temp_max\":[5,9,13,10,12,11,8,13,6,9,11,10,13,13,11,13,6,9,11,10,12,12,9,13,4,8,9,9,10,11,9,11,6,9,12,10,12,12,9,13,5,9,10,10,11,11,9,12,6,8,11,10,12,11,8,12,5,8,10,9,11,11,9,12,5,9,12,9,12,11,8,13,6,9,11,10,12,12,10,13,6,9,11,10,11,12,8,13,6,8,11,10,12,12,8,13],\"temp_min\":[1,5,6,6,7,7,6,7,1,4,7,6,9,9,7,9,2,5,7,7,8,7,6,7,-1,3,5,5,7,7,5,7,2,6,7,7,8,8,7,8,1,4,6,6,8,7,6,7,2,5,7,7,7,7,6,7,0,4,5,5,7,7,5,7,1,4,6,6,6,7,6,6,2,5,7,7,8,9,7,8,2,6,7,7,8,7,7,7,2,5,7,7,8,7,6,7],\"temp_morn\":[2,5,6,7,7,11,6,7,2,4,7,7,9,12,7,9,3,5,7,7,9,11,6,7,0,3,5,5,7,10,5,7,3,6,7,8,9,12,7,9,2,4,6,6,8,11,6,7,3,5,7,7,8,11,6,7,1,4,6,6,8,10,5,7,2,5,6,6,7,11,6,7,2,5,7,8,9,12,7,9,3,6,8,7,9,11,7,8,3,5,7,7,9,11,6,7],\"timestamp\":{\"__ndarray__\":\"AABAcJDyd0IAAADW4vJ3QgAAwDs183dCAACAoYfzd0IAAEAH2vN3QgAAAG0s9HdCAADA0n70d0IAAIA40fR3QgAAQHCQ8ndCAAAA1uLyd0IAAMA7NfN3QgAAgKGH83dCAABAB9rzd0IAAABtLPR3QgAAwNJ+9HdCAACAONH0d0IAAEBwkPJ3QgAAANbi8ndCAADAOzXzd0IAAIChh/N3QgAAQAfa83dCAAAAbSz0d0IAAMDSfvR3QgAAgDjR9HdCAABAcJDyd0IAAADW4vJ3QgAAwDs183dCAACAoYfzd0IAAEAH2vN3QgAAAG0s9HdCAADA0n70d0IAAIA40fR3QgAAQHCQ8ndCAAAA1uLyd0IAAMA7NfN3QgAAgKGH83dCAABAB9rzd0IAAABtLPR3QgAAwNJ+9HdCAACAONH0d0IAAEBwkPJ3QgAAANbi8ndCAADAOzXzd0IAAIChh/N3QgAAQAfa83dCAAAAbSz0d0IAAMDSfvR3QgAAgDjR9HdCAABAcJDyd0IAAADW4vJ3QgAAwDs183dCAACAoYfzd0IAAEAH2vN3QgAAAG0s9HdCAADA0n70d0IAAIA40fR3QgAAQHCQ8ndCAAAA1uLyd0IAAMA7NfN3QgAAgKGH83dCAABAB9rzd0IAAABtLPR3QgAAwNJ+9HdCAACAONH0d0IAAEBwkPJ3QgAAANbi8ndCAADAOzXzd0IAAIChh/N3QgAAQAfa83dCAAAAbSz0d0IAAMDSfvR3QgAAgDjR9HdCAABAcJDyd0IAAADW4vJ3QgAAwDs183dCAACAoYfzd0IAAEAH2vN3QgAAAG0s9HdCAADA0n70d0IAAIA40fR3QgAAQHCQ8ndCAAAA1uLyd0IAAMA7NfN3QgAAgKGH83dCAABAB9rzd0IAAABtLPR3QgAAwNJ+9HdCAACAONH0d0IAAEBwkPJ3QgAAANbi8ndCAADAOzXzd0IAAIChh/N3QgAAQAfa83dCAAAAbSz0d0IAAMDSfvR3QgAAgDjR9HdC\",\"dtype\":\"float64\",\"order\":\"little\",\"shape\":[96]},\"weather\":[\"\\uad6c\\ub984\\uc870\\uae08\",\"\\ub9d1\\uc74c\",\"\\ub9d1\\uc74c\",\"\\ub9d1\\uc74c\",\"\\uc628\\ud750\\ub9bc\",\"\\uc2e4 \\ube44\",\"\\uc2e4 \\ube44\",\"\\ub9d1\\uc74c\",\"\\ub9d1\\uc74c\",\"\\ub9d1\\uc74c\",\"\\ub9d1\\uc74c\",\"\\ub9d1\\uc74c\",\"\\uc628\\ud750\\ub9bc\",\"\\uc2e4 \\ube44\",\"\\uc2e4 \\ube44\",\"\\ub9d1\\uc74c\",\"\\uc57d\\uac04\\uc758 \\uad6c\\ub984\\uc774 \\ub080 \\ud558\\ub298\",\"\\ub9d1\\uc74c\",\"\\ub9d1\\uc74c\",\"\\ub9d1\\uc74c\",\"\\uc628\\ud750\\ub9bc\",\"\\uc2e4 \\ube44\",\"\\uc2e4 \\ube44\",\"\\ub9d1\\uc74c\",\"\\uc57d\\uac04\\uc758 \\uad6c\\ub984\\uc774 \\ub080 \\ud558\\ub298\",\"\\ub9d1\\uc74c\",\"\\ub9d1\\uc74c\",\"\\ub9d1\\uc74c\",\"\\uc628\\ud750\\ub9bc\",\"\\uc2e4 \\ube44\",\"\\uc2e4 \\ube44\",\"\\ub9d1\\uc74c\",\"\\uad6c\\ub984\\uc870\\uae08\",\"\\ub9d1\\uc74c\",\"\\ub9d1\\uc74c\",\"\\ub9d1\\uc74c\",\"\\uc628\\ud750\\ub9bc\",\"\\uc2e4 \\ube44\",\"\\uc2e4 \\ube44\",\"\\ub9d1\\uc74c\",\"\\uc57d\\uac04\\uc758 \\uad6c\\ub984\\uc774 \\ub080 \\ud558\\ub298\",\"\\ub9d1\\uc74c\",\"\\ub9d1\\uc74c\",\"\\ub9d1\\uc74c\",\"\\uc628\\ud750\\ub9bc\",\"\\uc2e4 \\ube44\",\"\\uc2e4 \\ube44\",\"\\ub9d1\\uc74c\",\"\\ud2bc\\uad6c\\ub984\",\"\\ub9d1\\uc74c\",\"\\ub9d1\\uc74c\",\"\\ub9d1\\uc74c\",\"\\uc628\\ud750\\ub9bc\",\"\\uc2e4 \\ube44\",\"\\uc2e4 \\ube44\",\"\\ub9d1\\uc74c\",\"\\uc57d\\uac04\\uc758 \\uad6c\\ub984\\uc774 \\ub080 \\ud558\\ub298\",\"\\ub9d1\\uc74c\",\"\\ub9d1\\uc74c\",\"\\ub9d1\\uc74c\",\"\\uc628\\ud750\\ub9bc\",\"\\uc2e4 \\ube44\",\"\\uc2e4 \\ube44\",\"\\ub9d1\\uc74c\",\"\\ud2bc\\uad6c\\ub984\",\"\\ub9d1\\uc74c\",\"\\ub9d1\\uc74c\",\"\\ub9d1\\uc74c\",\"\\uc628\\ud750\\ub9bc\",\"\\uc2e4 \\ube44\",\"\\uc2e4 \\ube44\",\"\\ub9d1\\uc74c\",\"\\uc57d\\uac04\\uc758 \\uad6c\\ub984\\uc774 \\ub080 \\ud558\\ub298\",\"\\ub9d1\\uc74c\",\"\\ub9d1\\uc74c\",\"\\ub9d1\\uc74c\",\"\\uc628\\ud750\\ub9bc\",\"\\uc2e4 \\ube44\",\"\\uc2e4 \\ube44\",\"\\ub9d1\\uc74c\",\"\\ud2bc\\uad6c\\ub984\",\"\\ub9d1\\uc74c\",\"\\ub9d1\\uc74c\",\"\\ub9d1\\uc74c\",\"\\uc628\\ud750\\ub9bc\",\"\\uc2e4 \\ube44\",\"\\uc2e4 \\ube44\",\"\\ub9d1\\uc74c\",\"\\ud2bc\\uad6c\\ub984\",\"\\ub9d1\\uc74c\",\"\\ub9d1\\uc74c\",\"\\ub9d1\\uc74c\",\"\\uc628\\ud750\\ub9bc\",\"\\uc2e4 \\ube44\",\"\\uc2e4 \\ube44\",\"\\ub9d1\\uc74c\"],\"weather_icon\":[\"https://openweathermap.org/img/wn/03d@4x.png\",\"https://openweathermap.org/img/wn/01d@4x.png\",\"https://openweathermap.org/img/wn/01d@4x.png\",\"https://openweathermap.org/img/wn/01d@4x.png\",\"https://openweathermap.org/img/wn/04d@4x.png\",\"https://openweathermap.org/img/wn/10d@4x.png\",\"https://openweathermap.org/img/wn/10d@4x.png\",\"https://openweathermap.org/img/wn/01d@4x.png\",\"https://openweathermap.org/img/wn/01d@4x.png\",\"https://openweathermap.org/img/wn/01d@4x.png\",\"https://openweathermap.org/img/wn/01d@4x.png\",\"https://openweathermap.org/img/wn/01d@4x.png\",\"https://openweathermap.org/img/wn/04d@4x.png\",\"https://openweathermap.org/img/wn/10d@4x.png\",\"https://openweathermap.org/img/wn/10d@4x.png\",\"https://openweathermap.org/img/wn/01d@4x.png\",\"https://openweathermap.org/img/wn/02d@4x.png\",\"https://openweathermap.org/img/wn/01d@4x.png\",\"https://openweathermap.org/img/wn/01d@4x.png\",\"https://openweathermap.org/img/wn/01d@4x.png\",\"https://openweathermap.org/img/wn/04d@4x.png\",\"https://openweathermap.org/img/wn/10d@4x.png\",\"https://openweathermap.org/img/wn/10d@4x.png\",\"https://openweathermap.org/img/wn/01d@4x.png\",\"https://openweathermap.org/img/wn/02d@4x.png\",\"https://openweathermap.org/img/wn/01d@4x.png\",\"https://openweathermap.org/img/wn/01d@4x.png\",\"https://openweathermap.org/img/wn/01d@4x.png\",\"https://openweathermap.org/img/wn/04d@4x.png\",\"https://openweathermap.org/img/wn/10d@4x.png\",\"https://openweathermap.org/img/wn/10d@4x.png\",\"https://openweathermap.org/img/wn/01d@4x.png\",\"https://openweathermap.org/img/wn/03d@4x.png\",\"https://openweathermap.org/img/wn/01d@4x.png\",\"https://openweathermap.org/img/wn/01d@4x.png\",\"https://openweathermap.org/img/wn/01d@4x.png\",\"https://openweathermap.org/img/wn/04d@4x.png\",\"https://openweathermap.org/img/wn/10d@4x.png\",\"https://openweathermap.org/img/wn/10d@4x.png\",\"https://openweathermap.org/img/wn/01d@4x.png\",\"https://openweathermap.org/img/wn/02d@4x.png\",\"https://openweathermap.org/img/wn/01d@4x.png\",\"https://openweathermap.org/img/wn/01d@4x.png\",\"https://openweathermap.org/img/wn/01d@4x.png\",\"https://openweathermap.org/img/wn/04d@4x.png\",\"https://openweathermap.org/img/wn/10d@4x.png\",\"https://openweathermap.org/img/wn/10d@4x.png\",\"https://openweathermap.org/img/wn/01d@4x.png\",\"https://openweathermap.org/img/wn/04d@4x.png\",\"https://openweathermap.org/img/wn/01d@4x.png\",\"https://openweathermap.org/img/wn/01d@4x.png\",\"https://openweathermap.org/img/wn/01d@4x.png\",\"https://openweathermap.org/img/wn/04d@4x.png\",\"https://openweathermap.org/img/wn/10d@4x.png\",\"https://openweathermap.org/img/wn/10d@4x.png\",\"https://openweathermap.org/img/wn/01d@4x.png\",\"https://openweathermap.org/img/wn/02d@4x.png\",\"https://openweathermap.org/img/wn/01d@4x.png\",\"https://openweathermap.org/img/wn/01d@4x.png\",\"https://openweathermap.org/img/wn/01d@4x.png\",\"https://openweathermap.org/img/wn/04d@4x.png\",\"https://openweathermap.org/img/wn/10d@4x.png\",\"https://openweathermap.org/img/wn/10d@4x.png\",\"https://openweathermap.org/img/wn/01d@4x.png\",\"https://openweathermap.org/img/wn/04d@4x.png\",\"https://openweathermap.org/img/wn/01d@4x.png\",\"https://openweathermap.org/img/wn/01d@4x.png\",\"https://openweathermap.org/img/wn/01d@4x.png\",\"https://openweathermap.org/img/wn/04d@4x.png\",\"https://openweathermap.org/img/wn/10d@4x.png\",\"https://openweathermap.org/img/wn/10d@4x.png\",\"https://openweathermap.org/img/wn/01d@4x.png\",\"https://openweathermap.org/img/wn/02d@4x.png\",\"https://openweathermap.org/img/wn/01d@4x.png\",\"https://openweathermap.org/img/wn/01d@4x.png\",\"https://openweathermap.org/img/wn/01d@4x.png\",\"https://openweathermap.org/img/wn/04d@4x.png\",\"https://openweathermap.org/img/wn/10d@4x.png\",\"https://openweathermap.org/img/wn/10d@4x.png\",\"https://openweathermap.org/img/wn/01d@4x.png\",\"https://openweathermap.org/img/wn/04d@4x.png\",\"https://openweathermap.org/img/wn/01d@4x.png\",\"https://openweathermap.org/img/wn/01d@4x.png\",\"https://openweathermap.org/img/wn/01d@4x.png\",\"https://openweathermap.org/img/wn/04d@4x.png\",\"https://openweathermap.org/img/wn/10d@4x.png\",\"https://openweathermap.org/img/wn/10d@4x.png\",\"https://openweathermap.org/img/wn/01d@4x.png\",\"https://openweathermap.org/img/wn/04d@4x.png\",\"https://openweathermap.org/img/wn/01d@4x.png\",\"https://openweathermap.org/img/wn/01d@4x.png\",\"https://openweathermap.org/img/wn/01d@4x.png\",\"https://openweathermap.org/img/wn/04d@4x.png\",\"https://openweathermap.org/img/wn/10d@4x.png\",\"https://openweathermap.org/img/wn/10d@4x.png\",\"https://openweathermap.org/img/wn/01d@4x.png\"]},\"selected\":{\"id\":\"3938\"},\"selection_policy\":{\"id\":\"3937\"}},\"id\":\"3848\",\"type\":\"ColumnDataSource\"},{\"attributes\":{},\"id\":\"3914\",\"type\":\"StringEditor\"},{\"attributes\":{},\"id\":\"3911\",\"type\":\"StringFormatter\"},{\"attributes\":{},\"id\":\"3931\",\"type\":\"StringFormatter\"},{\"attributes\":{},\"id\":\"3937\",\"type\":\"UnionRenderers\"},{\"attributes\":{},\"id\":\"3916\",\"type\":\"StringEditor\"},{\"attributes\":{},\"id\":\"3938\",\"type\":\"Selection\"},{\"attributes\":{},\"id\":\"3918\",\"type\":\"StringEditor\"},{\"attributes\":{\"columns\":[{\"id\":\"3851\"},{\"id\":\"3853\"},{\"id\":\"3855\"},{\"id\":\"3858\"},{\"id\":\"3861\"},{\"id\":\"3864\"},{\"id\":\"3866\"},{\"id\":\"3867\"},{\"id\":\"3868\"},{\"id\":\"3869\"},{\"id\":\"3870\"},{\"id\":\"3871\"},{\"id\":\"3872\"},{\"id\":\"3873\"},{\"id\":\"3874\"}],\"height\":800,\"source\":{\"id\":\"3849\"},\"view\":{\"id\":\"3879\"},\"width\":1200},\"id\":\"3877\",\"type\":\"DataTable\"},{\"attributes\":{},\"id\":\"3917\",\"type\":\"StringFormatter\"},{\"attributes\":{\"source\":{\"id\":\"3849\"}},\"id\":\"3879\",\"type\":\"CDSView\"},{\"attributes\":{},\"id\":\"3929\",\"type\":\"StringFormatter\"},{\"attributes\":{\"data\":{\"feels_like_eve\":[],\"feels_like_morn\":[],\"humidity\":[],\"index\":[],\"moonrise\":[],\"moonset\":[],\"name\":[],\"precipitation_probability\":[],\"sunrise\":[],\"sunset\":[],\"temp_eve\":[],\"temp_max\":[],\"temp_min\":[],\"temp_morn\":[],\"timestamp\":[],\"weather\":[]},\"selected\":{\"id\":\"3936\"},\"selection_policy\":{\"id\":\"3935\"}},\"id\":\"3849\",\"type\":\"ColumnDataSource\"},{\"attributes\":{},\"id\":\"3912\",\"type\":\"StringEditor\"},{\"attributes\":{},\"id\":\"3927\",\"type\":\"StringFormatter\"},{\"attributes\":{},\"id\":\"3932\",\"type\":\"StringEditor\"},{\"attributes\":{},\"id\":\"3928\",\"type\":\"StringEditor\"},{\"attributes\":{\"js_property_callbacks\":{\"change:value\":[{\"id\":\"3875\"}]},\"options\":[\"Please choose...\",\"\\uad6c\\uc88c\\uc74d\",\"\\ub0a8\\uc6d0\\uc74d\",\"\\ub300\\uc815\\uc74d\",\"\\uc11c\\uadc0\\ud3ec\\uc2dc\",\"\\uc131\\uc0b0\\uc74d\",\"\\uc548\\ub355\\uba74\",\"\\uc560\\uc6d4\\uc74d\",\"\\uc81c\\uc8fc\\uc2dc\",\"\\uc870\\ucc9c\\uc74d\",\"\\ud45c\\uc120\\uba74\",\"\\ud55c\\uacbd\\uba74\",\"\\ud55c\\ub9bc\\uc74d\"],\"title\":\"\\uc9c0\\uba85\",\"value\":\"Please choose...\"},\"id\":\"3876\",\"type\":\"Select\"},{\"attributes\":{},\"id\":\"3915\",\"type\":\"StringEditor\"},{\"attributes\":{\"editor\":{\"id\":\"3924\"},\"field\":\"temp_max\",\"formatter\":{\"id\":\"3923\"},\"title\":\"\\ucd5c\\ub300 \\uae30\\uc628 (\\u02daC)\"},\"id\":\"3869\",\"type\":\"TableColumn\"},{\"attributes\":{\"editor\":{\"id\":\"3918\"},\"field\":\"temp_morn\",\"formatter\":{\"id\":\"3917\"},\"title\":\"\\uc544\\uce68 \\uae30\\uc628 (\\u02daC)\"},\"id\":\"3866\",\"type\":\"TableColumn\"},{\"attributes\":{},\"id\":\"3930\",\"type\":\"StringEditor\"},{\"attributes\":{\"editor\":{\"id\":\"3932\"},\"field\":\"precipitation_probability\",\"formatter\":{\"id\":\"3931\"},\"title\":\"\\uac15\\uc218\\ud655\\ub960 (%)\"},\"id\":\"3873\",\"type\":\"TableColumn\"},{\"attributes\":{\"format\":\"%Y-%m-%d %H:%M:%S\"},\"id\":\"3850\",\"type\":\"DateFormatter\"},{\"attributes\":{\"format\":\"%Y-%m-%d %H:%M:%S\"},\"id\":\"3860\",\"type\":\"DateFormatter\"},{\"attributes\":{\"editor\":{\"id\":\"3930\"},\"field\":\"humidity\",\"formatter\":{\"id\":\"3929\"},\"title\":\"\\uc2b5\\ub3c4 (%)\"},\"id\":\"3872\",\"type\":\"TableColumn\"}],\"root_ids\":[\"3880\"]},\"title\":\"Bokeh Application\",\"version\":\"2.4.2\"}};\n  const render_items = [{\"docid\":\"d14a2fcc-c2b7-4470-bf08-be4da7d7a889\",\"root_ids\":[\"3880\"],\"roots\":{\"3880\":\"4027a4a0-f469-4563-8c1e-4f1b59d6a7a4\"}}];\n  root.Bokeh.embed.embed_items_notebook(docs_json, render_items);\n\n  }\n  if (root.Bokeh !== undefined) {\n    embed_document(root);\n  } else {\n    let attempts = 0;\n    const timer = setInterval(function(root) {\n      if (root.Bokeh !== undefined) {\n        clearInterval(timer);\n        embed_document(root);\n      } else {\n        attempts++;\n        if (attempts > 100) {\n          clearInterval(timer);\n          console.log(\"Bokeh: ERROR: Unable to run BokehJS code because BokehJS library is missing\");\n        }\n      }\n    }, 10, root)\n  }\n})(window);",
      "application/vnd.bokehjs_exec.v0+json": ""
     },
     "metadata": {
      "application/vnd.bokehjs_exec.v0+json": {
       "id": "3880"
      }
     },
     "output_type": "display_data"
    }
   ],
   "source": [
    "if __name__ == \"__main__\":\n",
    "\n",
    "    main()    "
   ]
  },
  {
   "cell_type": "code",
   "execution_count": null,
   "metadata": {},
   "outputs": [],
   "source": []
  }
 ],
 "metadata": {
  "interpreter": {
   "hash": "b059bc85c320021421c137b99aaec7b3924b4732fcc62b2c92e12345b82ec38a"
  },
  "kernelspec": {
   "display_name": "Python 3.9.7 ('midPrj')",
   "language": "python",
   "name": "python3"
  },
  "language_info": {
   "codemirror_mode": {
    "name": "ipython",
    "version": 3
   },
   "file_extension": ".py",
   "mimetype": "text/x-python",
   "name": "python",
   "nbconvert_exporter": "python",
   "pygments_lexer": "ipython3",
   "version": "3.9.7"
  },
  "orig_nbformat": 4
 },
 "nbformat": 4,
 "nbformat_minor": 2
}
