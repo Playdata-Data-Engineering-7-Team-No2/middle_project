{
 "cells": [
  {
   "cell_type": "code",
   "execution_count": 1,
   "id": "e5139c8a-33d1-483b-a396-db1fa4df58b5",
   "metadata": {},
   "outputs": [],
   "source": [
    "import findspark\n",
    "findspark.init()"
   ]
  },
  {
   "cell_type": "code",
   "execution_count": 2,
   "id": "aad992d2-c46a-45d4-ad3b-bbd8adddf958",
   "metadata": {},
   "outputs": [],
   "source": [
    "from pyspark.sql import SparkSession\n",
    "from pyspark.sql.types import ArrayType, IntegerType, StructType, StructField\n",
    "from pyspark.sql.functions import regexp_extract, lit, split, col"
   ]
  },
  {
   "cell_type": "code",
   "execution_count": 3,
   "id": "a718ad34-50e1-4853-adb7-df08a4a6235e",
   "metadata": {},
   "outputs": [],
   "source": [
    "from datetime import datetime\n",
    "import requests\n",
    "import json\n",
    "import os\n",
    "import configparser\n",
    "from pathlib import Path"
   ]
  },
  {
   "cell_type": "code",
   "execution_count": null,
   "id": "f6ef5a50-602b-4310-a30a-b8b6ba789527",
   "metadata": {},
   "outputs": [],
   "source": [
    "spark = SparkSession \\\n",
    "        .builder \\\n",
    "        .master('local') \\\n",
    "        .appName('tempera_obs') \\\n",
    "        .config(\"spark.driver.extraClassPath\", \"/Users/mdgome/Downloads/mysql-connector-java-8.0.28/mysql-connector-java-8.0.28.jar\") \\\n",
    "        .getOrCreate()\n",
    "#        .master('spark://hadoop01:7077') \\\n",
    "       # .config(\"spark.driver.extraClassPath\", \"/hadoop/jupyter_dir/jar/mysql-connector-java-8.0.28/mysql-connector-java-8.0.28.jar\") \\\n",
    "            # .config(\"spark.driver.extraClassPath\", \"hdfs:///spark3-jars/mysql-connector-java-8.0.28.jar\") \\"
   ]
  },
  {
   "cell_type": "code",
   "execution_count": 5,
   "id": "c6bebcf8-6f57-4684-98b0-9d361101617b",
   "metadata": {},
   "outputs": [
    {
     "data": {
      "text/plain": [
       "'2022.03.09'"
      ]
     },
     "execution_count": 5,
     "metadata": {},
     "output_type": "execute_result"
    }
   ],
   "source": [
    "now_datetime=datetime.now().strftime('%Y.%m.%d')\n",
    "now_datetime # 디버깅 용"
   ]
  },
  {
   "cell_type": "code",
   "execution_count": 6,
   "id": "8987d257-378c-4334-88c6-160bfdc96382",
   "metadata": {},
   "outputs": [
    {
     "data": {
      "text/plain": [
       "['config/config.ini']"
      ]
     },
     "execution_count": 6,
     "metadata": {},
     "output_type": "execute_result"
    }
   ],
   "source": [
    "config = configparser.ConfigParser()\n",
    "config.read(Path(\"./config/config.ini\"),encoding='utf-8')"
   ]
  },
  {
   "cell_type": "code",
   "execution_count": 7,
   "id": "dcfa01fc-83cf-41c7-8dae-2d2ae5b87786",
   "metadata": {},
   "outputs": [
    {
     "data": {
      "text/plain": [
       "'http://www.khoa.go.kr/api/oceangrid/ObsServiceObj/search.do?ServiceKey=1LJG14JWnAylzKi5GvmuGg==&ResultType=json'"
      ]
     },
     "execution_count": 7,
     "metadata": {},
     "output_type": "execute_result"
    }
   ],
   "source": [
    "service_key=config['api']['service_key']\n",
    "url=\"http://www.khoa.go.kr/api/oceangrid/ObsServiceObj/search.do?ServiceKey=\"+service_key+\"&ResultType=json\"\n",
    "url # 디버깅용"
   ]
  },
  {
   "cell_type": "code",
   "execution_count": null,
   "id": "76089c4d-3df9-4cc5-8767-404e865f7990",
   "metadata": {
    "tags": []
   },
   "outputs": [],
   "source": [
    "response = requests.get(url).json()\n",
    "# 디버깅 용\n",
    "# response['result']['data']"
   ]
  },
  {
   "cell_type": "code",
   "execution_count": 10,
   "id": "a1be559c-4979-4f11-9322-6d5b5a81de29",
   "metadata": {
    "tags": []
   },
   "outputs": [
    {
     "name": "stderr",
     "output_type": "stream",
     "text": [
      "[Stage 0:>                                                          (0 + 1) / 1]\r"
     ]
    },
    {
     "name": "stdout",
     "output_type": "stream",
     "text": [
      "+----------+---------+----------+----------------------------------+-----------+-------------+\n",
      "| data_type|  obs_lat|   obs_lon|                        obs_object|obs_post_id|obs_post_name|\n",
      "+----------+---------+----------+----------------------------------+-----------+-------------+\n",
      "|조위관측소|35.024178|128.810933|조위,수온,염분,기온,기압,풍속,풍향|    DT_0063|       가덕도|\n",
      "|조위관측소|37.731944|126.522222|                         조위,기압|    DT_0032|     강화대교|\n",
      "|조위관측소|34.028333|127.308889|조위,수온,염분,기온,기압,풍속,풍향|    DT_0031|       거문도|\n",
      "|조위관측소|34.801389|128.699167|조위,수온,염분,기온,기압,풍속,풍향|    DT_0029|       거제도|\n",
      "|조위관측소|37.560833|126.601111|          조위,기온,기압,풍속,풍향|    DT_0058|       경인항|\n",
      "+----------+---------+----------+----------------------------------+-----------+-------------+\n",
      "only showing top 5 rows\n",
      "\n"
     ]
    },
    {
     "name": "stderr",
     "output_type": "stream",
     "text": [
      "                                                                                \r"
     ]
    }
   ],
   "source": [
    "df = spark.createDataFrame(response[\"result\"][\"data\"])\n",
    "df.show(5)"
   ]
  },
  {
   "cell_type": "code",
   "execution_count": 11,
   "id": "52a55a32-3b6a-4496-9283-0b9d9ebeae2c",
   "metadata": {},
   "outputs": [],
   "source": [
    "config = configparser.ConfigParser()\n",
    "config.read(Path(\"./config/config.ini\"),encoding='utf-8')\n",
    "# config.read(os.getcwd()+os.sep+'config'+os.sep+'config.ini',encoding='utf-8')\n",
    "\n",
    "user = config['dev_mysql']['user']\n",
    "password = config['dev_mysql']['password']\n",
    "host = config['dev_mysql']['host']\n",
    "port = config['dev_mysql']['port']\n",
    "dbname = config['dev_mysql']['dbname']\n",
    "url = config['dev_mysql']['url'].format(host=host,port=port,dbname=dbname)\n",
    "# dbtable = config['dev_mysql']['dbtable']"
   ]
  },
  {
   "cell_type": "code",
   "execution_count": 13,
   "id": "0b0cf8da-3447-499d-a640-526584206b76",
   "metadata": {
    "tags": []
   },
   "outputs": [
    {
     "name": "stderr",
     "output_type": "stream",
     "text": [
      "Loading class `com.mysql.jdbc.Driver'. This is deprecated. The new driver class is `com.mysql.cj.jdbc.Driver'. The driver is automatically registered via the SPI and manual loading of the driver class is generally unnecessary.\n",
      "                                                                                \r"
     ]
    }
   ],
   "source": [
    "df.write.format('jdbc').options(\n",
    "    url=url,\n",
    "    driver='com.mysql.jdbc.Driver',\n",
    "    dbtable='obs_info',\n",
    "    user=user,\n",
    "    password=password).mode('overwrite').save()"
   ]
  },
  {
   "cell_type": "code",
   "execution_count": 21,
   "id": "6417676c-2aba-4b30-b626-b5be9f6dc5c1",
   "metadata": {},
   "outputs": [
    {
     "name": "stdout",
     "output_type": "stream",
     "text": [
      "Found 2 items\n",
      "drwxr-xr-x   - hadoop supergroup          0 2022-02-26 05:47 /middle_project/2022.02.26_obs_info.csv\n",
      "drwxr-xr-x   - hadoop supergroup          0 2022-03-02 17:35 /middle_project/2022.03.02_obs_info.csv\n"
     ]
    }
   ],
   "source": [
    "!hdfs dfs -ls /middle_project"
   ]
  },
  {
   "cell_type": "code",
   "execution_count": 19,
   "id": "5ac94319-dfa0-4b75-91cc-da2a2eae968c",
   "metadata": {},
   "outputs": [
    {
     "data": {
      "text/plain": [
       "'hdfs:///middle_project/2022.03.02_obs_info.csv'"
      ]
     },
     "execution_count": 19,
     "metadata": {},
     "output_type": "execute_result"
    }
   ],
   "source": [
    "file_name = \"hdfs:///middle_project/\"+now_datetime+\"_obs_info.csv\"\n",
    "file_name"
   ]
  },
  {
   "cell_type": "code",
   "execution_count": 20,
   "id": "d5a5bac9-e56f-47db-93d5-06131ad833af",
   "metadata": {},
   "outputs": [],
   "source": [
    "# df.write.csv(file_name,header=True)\n",
    "df.coalesce(1).write.format('com.databricks.spark.csv').save(file_name,header = 'true')"
   ]
  },
  {
   "cell_type": "code",
   "execution_count": 38,
   "id": "7fd8380e-fd53-4c39-8daa-2ac0adb72f98",
   "metadata": {
    "tags": []
   },
   "outputs": [],
   "source": [
    "test_df = spark.read.csv(file_name)"
   ]
  },
  {
   "cell_type": "code",
   "execution_count": 39,
   "id": "76d51e0d-3e15-44d2-9e0d-7710963e8c1d",
   "metadata": {},
   "outputs": [
    {
     "name": "stdout",
     "output_type": "stream",
     "text": [
      "+----------+---------+----------+----------------------------------+-----------+-------------+\n",
      "|       _c0|      _c1|       _c2|                               _c3|        _c4|          _c5|\n",
      "+----------+---------+----------+----------------------------------+-----------+-------------+\n",
      "| data_type|  obs_lat|   obs_lon|                        obs_object|obs_post_id|obs_post_name|\n",
      "|조위관측소|35.024178|128.810933|조위,수온,염분,기온,기압,풍속,풍향|    DT_0063|       가덕도|\n",
      "|조위관측소|37.731944|126.522222|                         조위,기압|    DT_0032|     강화대교|\n",
      "|조위관측소|34.028333|127.308889|조위,수온,염분,기온,기압,풍속,풍향|    DT_0031|       거문도|\n",
      "|조위관측소|34.801389|128.699167|조위,수온,염분,기온,기압,풍속,풍향|    DT_0029|       거제도|\n",
      "+----------+---------+----------+----------------------------------+-----------+-------------+\n",
      "only showing top 5 rows\n",
      "\n"
     ]
    }
   ],
   "source": [
    "test_df.show(5)"
   ]
  },
  {
   "cell_type": "code",
   "execution_count": 19,
   "id": "edb2f8e5-45ce-4445-90f6-a8141a7bccfb",
   "metadata": {},
   "outputs": [],
   "source": [
    "spark.stop()"
   ]
  },
  {
   "cell_type": "code",
   "execution_count": null,
   "id": "6356b438-9bd4-4407-8290-3d4363954485",
   "metadata": {},
   "outputs": [],
   "source": []
  }
 ],
 "metadata": {
  "kernelspec": {
   "display_name": "pipeline",
   "language": "python",
   "name": "pipeline"
  },
  "language_info": {
   "codemirror_mode": {
    "name": "ipython",
    "version": 3
   },
   "file_extension": ".py",
   "mimetype": "text/x-python",
   "name": "python",
   "nbconvert_exporter": "python",
   "pygments_lexer": "ipython3",
   "version": "3.9.7"
  }
 },
 "nbformat": 4,
 "nbformat_minor": 5
}
